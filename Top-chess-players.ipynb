{
 "cells": [
  {
   "cell_type": "code",
   "execution_count": 8,
   "metadata": {},
   "outputs": [],
   "source": [
    "from autoscraper import AutoScraper\n",
    "import pandas as pd"
   ]
  },
  {
   "cell_type": "markdown",
   "metadata": {},
   "source": [
    "### These below cells needs to be run only once"
   ]
  },
  {
   "cell_type": "code",
   "execution_count": 22,
   "metadata": {},
   "outputs": [],
   "source": [
    "#url=\"https://www.chess.com/ratings\"\n",
    "#wanted_list=[\"Magnus Carlsen\",\"2847\", \"2881\", \"2886\"]"
   ]
  },
  {
   "cell_type": "code",
   "execution_count": 50,
   "metadata": {},
   "outputs": [],
   "source": [
    "#scraper=AutoScraper()\n",
    "#result=scraper.build(url,wanted_list)\n",
    "#print(result)"
   ]
  },
  {
   "cell_type": "code",
   "execution_count": 24,
   "metadata": {},
   "outputs": [
    {
     "data": {
      "text/plain": [
       "158"
      ]
     },
     "execution_count": 24,
     "metadata": {},
     "output_type": "execute_result"
    }
   ],
   "source": [
    "#len(list(result))"
   ]
  },
  {
   "cell_type": "code",
   "execution_count": 52,
   "metadata": {},
   "outputs": [],
   "source": [
    "#result = scraper.get_result_similar(url,grouped=True)\n",
    "#print(result)"
   ]
  },
  {
   "cell_type": "code",
   "execution_count": 51,
   "metadata": {},
   "outputs": [],
   "source": [
    "#scraper.set_rule_aliases({'rule_z1je':'Name','rule_4jlx':'Classical','rule_bf1t':'Rapid','rule_zl29':'Blitz'})\n",
    "#scraper.keep_rules(['rule_z1je','rule_4jlx','rule_bf1t','rule_zl29'])\n",
    "#scraper.save(\"D:/Others/Personal/Personal projects/Twitter sentiment/top-chess-players\")\n"
   ]
  },
  {
   "cell_type": "markdown",
   "metadata": {},
   "source": [
    "#### List of top players - scraping save"
   ]
  },
  {
   "cell_type": "code",
   "execution_count": 20,
   "metadata": {},
   "outputs": [
    {
     "name": "stdout",
     "output_type": "stream",
     "text": [
      "['Garry Kasparov', 'Bobby Fischer', 'Magnus Carlsen', 'Jose Raul Capablanca', 'Hikaru Nakamura', 'Paul Morphy', 'Viswanathan Anand', 'Mikhail Tal', 'Fabiano Caruana', 'Mikhail Botvinnik', 'Judit Polgar', 'Alexander Alekhine', 'Adolf Anderssen', 'Akiba Rubinstein', 'Alan Pichot', 'Aleksandr Rakhmanov', 'Aleksandra Goryachkina', 'Aleksey Dreev', 'Alessia Carmen Santeramo', 'Alex Yermolinsky', 'Alexander A Kotov', 'Alexander Areshchenko']\n"
     ]
    }
   ],
   "source": [
    "#chessdb_url=\"https://www.chess.com/games\"\n",
    "#wanted_list=[\"Garry Kasparov\"]\n",
    "#scraper=AutoScraper()\n",
    "#result = scraper.build(chessdb_url,wanted_list)\n",
    "#print(result)\n",
    "#scraper.save('list-of-top-players')"
   ]
  },
  {
   "cell_type": "code",
   "execution_count": null,
   "metadata": {},
   "outputs": [],
   "source": []
  },
  {
   "cell_type": "code",
   "execution_count": 49,
   "metadata": {},
   "outputs": [
    {
     "name": "stdout",
     "output_type": "stream",
     "text": [
      "[]\n"
     ]
    }
   ],
   "source": [
    "scraper=AutoScraper()\n",
    "chessdb_url=\"https://chess24.com/en/analysis\"\n",
    "wanted_list_chess_db=[\"Apr 26, 2021\"]\n",
    "result = scraper.build(chessdb_url,wanted_list_chess_db)\n",
    "print(result)\n",
    "#scraper.save('list-of-top-players')"
   ]
  },
  {
   "cell_type": "code",
   "execution_count": 82,
   "metadata": {},
   "outputs": [
    {
     "name": "stdout",
     "output_type": "stream",
     "text": [
      "[]\n"
     ]
    }
   ],
   "source": [
    "scraper=AutoScraper()\n",
    "chessdb_url=\"https://chess24.com/en/analysis\"\n",
    "wanted_list_chess_db=[\"Alekseenko, Kirill\"]\n",
    "result = scraper.build(chessdb_url,wanted_list_chess_db,html =\"databaseGames\")\n",
    "print(result)\n",
    "#scraper.save('list-of-top-players')"
   ]
  },
  {
   "cell_type": "code",
   "execution_count": 77,
   "metadata": {},
   "outputs": [
    {
     "data": {
      "text/plain": [
       "0"
      ]
     },
     "execution_count": 77,
     "metadata": {},
     "output_type": "execute_result"
    }
   ],
   "source": [
    "len(result)"
   ]
  },
  {
   "cell_type": "code",
   "execution_count": null,
   "metadata": {},
   "outputs": [],
   "source": []
  },
  {
   "cell_type": "markdown",
   "metadata": {},
   "source": [
    "### Load the saved model"
   ]
  },
  {
   "cell_type": "markdown",
   "metadata": {},
   "source": [
    "#### 1. Ratings"
   ]
  },
  {
   "cell_type": "code",
   "execution_count": 9,
   "metadata": {},
   "outputs": [
    {
     "ename": "NameError",
     "evalue": "name 'scraper' is not defined",
     "output_type": "error",
     "traceback": [
      "\u001b[1;31m---------------------------------------------------------------------------\u001b[0m",
      "\u001b[1;31mNameError\u001b[0m                                 Traceback (most recent call last)",
      "\u001b[1;32m<ipython-input-9-e32f530ff583>\u001b[0m in \u001b[0;36m<module>\u001b[1;34m\u001b[0m\n\u001b[1;32m----> 1\u001b[1;33m \u001b[0mscraper\u001b[0m\u001b[1;33m.\u001b[0m\u001b[0mload\u001b[0m\u001b[1;33m(\u001b[0m\u001b[1;34m'top-chess-players'\u001b[0m\u001b[1;33m)\u001b[0m\u001b[1;33m\u001b[0m\u001b[1;33m\u001b[0m\u001b[0m\n\u001b[0m\u001b[0;32m      2\u001b[0m \u001b[0mbase_url\u001b[0m \u001b[1;33m=\u001b[0m \u001b[0murl\u001b[0m\u001b[1;33m=\u001b[0m\u001b[1;34m\"https://www.chess.com/ratings\"\u001b[0m\u001b[1;33m\u001b[0m\u001b[1;33m\u001b[0m\u001b[0m\n",
      "\u001b[1;31mNameError\u001b[0m: name 'scraper' is not defined"
     ]
    }
   ],
   "source": [
    "scraper=AutoScraper()\n",
    "scraper.load('top-chess-players')\n",
    "base_url = url=\"https://www.chess.com/ratings\""
   ]
  },
  {
   "cell_type": "code",
   "execution_count": 69,
   "metadata": {},
   "outputs": [],
   "source": [
    "df = pd.DataFrame(None,columns=[\"Name\",\"Classical\", \"Rapid\", \"Blitz\"])\n",
    "for i in range(1,6):\n",
    "    new_url= base_url + \"?page=\" + str(i)\n",
    "    this_page_data = pd.DataFrame(scraper.get_result_similar(new_url,group_by_alias=True))\n",
    "    df = df.append(this_page_data,ignore_index=True)"
   ]
  },
  {
   "cell_type": "code",
   "execution_count": 70,
   "metadata": {},
   "outputs": [
    {
     "data": {
      "text/html": [
       "<div>\n",
       "<style scoped>\n",
       "    .dataframe tbody tr th:only-of-type {\n",
       "        vertical-align: middle;\n",
       "    }\n",
       "\n",
       "    .dataframe tbody tr th {\n",
       "        vertical-align: top;\n",
       "    }\n",
       "\n",
       "    .dataframe thead th {\n",
       "        text-align: right;\n",
       "    }\n",
       "</style>\n",
       "<table border=\"1\" class=\"dataframe\">\n",
       "  <thead>\n",
       "    <tr style=\"text-align: right;\">\n",
       "      <th></th>\n",
       "      <th>Name</th>\n",
       "      <th>Classical</th>\n",
       "      <th>Rapid</th>\n",
       "      <th>Blitz</th>\n",
       "    </tr>\n",
       "  </thead>\n",
       "  <tbody>\n",
       "    <tr>\n",
       "      <th>0</th>\n",
       "      <td>Magnus Carlsen</td>\n",
       "      <td>2847</td>\n",
       "      <td>2881</td>\n",
       "      <td>2886</td>\n",
       "    </tr>\n",
       "    <tr>\n",
       "      <th>1</th>\n",
       "      <td>Fabiano Caruana</td>\n",
       "      <td>2820</td>\n",
       "      <td>2773</td>\n",
       "      <td>2711</td>\n",
       "    </tr>\n",
       "    <tr>\n",
       "      <th>2</th>\n",
       "      <td>Ding Liren</td>\n",
       "      <td>2791</td>\n",
       "      <td>2836</td>\n",
       "      <td>2788</td>\n",
       "    </tr>\n",
       "    <tr>\n",
       "      <th>3</th>\n",
       "      <td>Ian Nepomniachtchi</td>\n",
       "      <td>2789</td>\n",
       "      <td>2778</td>\n",
       "      <td>2785</td>\n",
       "    </tr>\n",
       "    <tr>\n",
       "      <th>4</th>\n",
       "      <td>Levon Aronian</td>\n",
       "      <td>2781</td>\n",
       "      <td>2778</td>\n",
       "      <td>2739</td>\n",
       "    </tr>\n",
       "    <tr>\n",
       "      <th>...</th>\n",
       "      <td>...</td>\n",
       "      <td>...</td>\n",
       "      <td>...</td>\n",
       "      <td>...</td>\n",
       "    </tr>\n",
       "    <tr>\n",
       "      <th>232</th>\n",
       "      <td>Bartosz Rudecki</td>\n",
       "      <td>1846</td>\n",
       "      <td>1731</td>\n",
       "      <td>1743</td>\n",
       "    </tr>\n",
       "    <tr>\n",
       "      <th>233</th>\n",
       "      <td>Frank Johnson</td>\n",
       "      <td>1824</td>\n",
       "      <td>0</td>\n",
       "      <td>1868</td>\n",
       "    </tr>\n",
       "    <tr>\n",
       "      <th>234</th>\n",
       "      <td>Andrea Botez</td>\n",
       "      <td>1676</td>\n",
       "      <td>0</td>\n",
       "      <td>1763</td>\n",
       "    </tr>\n",
       "    <tr>\n",
       "      <th>235</th>\n",
       "      <td>Tuduetso Sabure</td>\n",
       "      <td>1649</td>\n",
       "      <td>1831</td>\n",
       "      <td>1873</td>\n",
       "    </tr>\n",
       "    <tr>\n",
       "      <th>236</th>\n",
       "      <td>Phiona Mutesi</td>\n",
       "      <td>1623</td>\n",
       "      <td>0</td>\n",
       "      <td>0</td>\n",
       "    </tr>\n",
       "  </tbody>\n",
       "</table>\n",
       "<p>237 rows × 4 columns</p>\n",
       "</div>"
      ],
      "text/plain": [
       "                   Name Classical Rapid Blitz\n",
       "0        Magnus Carlsen      2847  2881  2886\n",
       "1       Fabiano Caruana      2820  2773  2711\n",
       "2            Ding Liren      2791  2836  2788\n",
       "3    Ian Nepomniachtchi      2789  2778  2785\n",
       "4         Levon Aronian      2781  2778  2739\n",
       "..                  ...       ...   ...   ...\n",
       "232     Bartosz Rudecki      1846  1731  1743\n",
       "233       Frank Johnson      1824     0  1868\n",
       "234        Andrea Botez      1676     0  1763\n",
       "235     Tuduetso Sabure      1649  1831  1873\n",
       "236       Phiona Mutesi      1623     0     0\n",
       "\n",
       "[237 rows x 4 columns]"
      ]
     },
     "execution_count": 70,
     "metadata": {},
     "output_type": "execute_result"
    }
   ],
   "source": [
    "df"
   ]
  },
  {
   "cell_type": "markdown",
   "metadata": {},
   "source": [
    "#### List of top players"
   ]
  },
  {
   "cell_type": "code",
   "execution_count": 26,
   "metadata": {},
   "outputs": [],
   "source": [
    "scraper=AutoScraper()\n",
    "base_url=\"https://www.chess.com/games\"\n",
    "scraper.load('list-of-top-players')\n",
    "list_of_top_players = []\n",
    "try:\n",
    "    for i in range(1,50):\n",
    "        new_url= base_url + \"?page=\" + str(i)\n",
    "        list_of_top_players.extend(list(scraper.get_result_similar(new_url)))\n",
    "except:\n",
    "    print(\"Max page reached\")\n",
    "    "
   ]
  },
  {
   "cell_type": "code",
   "execution_count": 27,
   "metadata": {},
   "outputs": [
    {
     "data": {
      "text/plain": [
       "['Adolf Anderssen',\n",
       " 'Akiba Rubinstein',\n",
       " 'Alan Pichot',\n",
       " 'Aleksandr Rakhmanov',\n",
       " 'Aleksandra Goryachkina',\n",
       " 'Aleksey Dreev',\n",
       " 'Alessia Carmen Santeramo',\n",
       " 'Alex Yermolinsky',\n",
       " 'Alexander A Kotov',\n",
       " 'Alexander Areshchenko',\n",
       " 'Alexander Donchenko',\n",
       " 'Alexander Grischuk',\n",
       " 'Alexander K Tolush',\n",
       " 'Alexander Khalifman',\n",
       " 'Alexander McDonnell',\n",
       " 'Alexander Morozevich',\n",
       " 'Alexander Onischuk',\n",
       " 'Alexandr Predke',\n",
       " 'Alexandra Botez',\n",
       " 'Alexandra Kosteniuk',\n",
       " 'Alexei Shirov',\n",
       " 'Alexey Sarana',\n",
       " 'Alina Kashlinskaya',\n",
       " 'Alireza Firouzja',\n",
       " 'Alisa Galliamova',\n",
       " 'Aman Hambleton',\n",
       " 'Amon Simutowe',\n",
       " 'Ana Matnadze',\n",
       " 'Anastasia Bodnaruk',\n",
       " 'Anatoly Karpov',\n",
       " 'Andrea Botez',\n",
       " 'Andrei Volokitin',\n",
       " 'Andrew Tang',\n",
       " 'Andrey Esipenko',\n",
       " 'Anish Giri',\n",
       " 'Anna Cramling Bellon',\n",
       " 'Anna Muzychuk',\n",
       " 'Anna Rudolf',\n",
       " 'Anna Ushenina',\n",
       " 'Anna Zatonskih',\n",
       " 'Antoaneta Stefanova',\n",
       " 'Anton Korobov',\n",
       " 'Anton Smirnov',\n",
       " 'Antonio Radic',\n",
       " 'Aram Hakobyan',\n",
       " 'Arjun Erigaisi',\n",
       " 'Arkadij Naiditsch',\n",
       " 'Aron Nimzowitsch',\n",
       " 'Artur Yusupov',\n",
       " 'Aryan Tari',\n",
       " 'Awonder Liang',\n",
       " 'Baadur Jobava',\n",
       " 'Bartosz Rudecki',\n",
       " 'Baskaran Adhiban',\n",
       " 'Bassem Amin',\n",
       " 'Batkhuyag Munguntuul',\n",
       " 'Bela Khotenashvili',\n",
       " 'Benjamin Finegold',\n",
       " 'Benjyfishy',\n",
       " 'Bent Larsen',\n",
       " 'Bernhard Horwitz',\n",
       " 'Bogdan-Daniel Deac',\n",
       " 'Boris Gelfand',\n",
       " 'Boris Spassky',\n",
       " 'Bruce Pandolfini',\n",
       " 'Bu Xiangzhi',\n",
       " 'Bukhuti Gurgenidze',\n",
       " 'Carissa Yip',\n",
       " 'Carl Schlechter',\n",
       " 'Christopher Woojin Yoo',\n",
       " 'Codemiko',\n",
       " 'Constantin Lupulescu',\n",
       " 'Daniel Naroditsky',\n",
       " 'Daniel Negreanu',\n",
       " 'Daniel Rensch',\n",
       " 'Daniil Dubov',\n",
       " 'Dariusz Swiercz',\n",
       " 'David Anton Guijarro',\n",
       " 'David Bronstein',\n",
       " 'David Janowsky',\n",
       " 'David Navara',\n",
       " 'David W L Howell',\n",
       " 'Dinara Saduakassova',\n",
       " 'Ding Liren',\n",
       " 'Ding Yixin',\n",
       " 'Dmitry Andreikin',\n",
       " 'Dmitry Jakovenko',\n",
       " 'Edgard Colle',\n",
       " 'Efim Bogoljubov',\n",
       " 'Ekaterina Atalik',\n",
       " 'Elina Groberman',\n",
       " 'Emanuel Lasker',\n",
       " 'Emory Tate',\n",
       " 'Eric Hansen',\n",
       " 'Ernesto Inarkiev',\n",
       " 'Ernst K Falkbeer',\n",
       " 'Etienne Bacrot',\n",
       " 'Eugene Perelshteyn',\n",
       " 'Evgeniy Najer',\n",
       " 'Evgeny Tomashevsky',\n",
       " 'Ferenc Berkes',\n",
       " 'Francisco Vallejo Pons',\n",
       " 'Francois-Andre Danican Philidor',\n",
       " 'Frank Johnson',\n",
       " 'Frank Marshall',\n",
       " 'Gabriel Sargissian',\n",
       " 'Gadir Guseinov',\n",
       " 'Gata Kamsky',\n",
       " 'Gawain Jones',\n",
       " 'Gedeon Barcza',\n",
       " 'Geza Maroczy',\n",
       " 'Gioachino Greco',\n",
       " 'Greg Shahade',\n",
       " 'Gregory Kaidanov',\n",
       " 'Gregory Serper',\n",
       " 'Grigoriy Oparin',\n",
       " 'Gukesh D',\n",
       " 'Gunay Mammadzada',\n",
       " 'Guo Qi',\n",
       " 'Gyula Breyer',\n",
       " 'Harika Dronavalli',\n",
       " 'Harry Nelson Pillsbury',\n",
       " 'Henrique Mecking',\n",
       " 'Henry Bird',\n",
       " 'Hou Yifan',\n",
       " 'Howard Staunton',\n",
       " 'Hrant Melkumyan',\n",
       " 'Huang Qian',\n",
       " 'Humpy Koneru',\n",
       " 'Ian Nepomniachtchi',\n",
       " 'Igor Glek',\n",
       " 'Igors Rausis',\n",
       " 'Illya Nyzhnyk',\n",
       " 'Irina Bulmaga',\n",
       " 'Irina Krush',\n",
       " 'Isidor Gunsberg',\n",
       " 'Iulija Osmak',\n",
       " 'Ivan Cheparinov',\n",
       " 'Ivan Saric',\n",
       " 'James Canty',\n",
       " 'Jan H Timman',\n",
       " 'Jan-Krzysztof Duda',\n",
       " 'Jeffery Xiong',\n",
       " 'Jennifer Shahade',\n",
       " 'Jennifer Yu',\n",
       " 'Johannes Zukertort',\n",
       " 'John D M Nunn',\n",
       " 'Jon Ludvig Hammer',\n",
       " 'Jorden van Foreest',\n",
       " 'Jorge Cori',\n",
       " 'Joseph H Blackburne',\n",
       " 'Joshua Waitzkin',\n",
       " 'Ju Wenjun',\n",
       " 'Julian M Hodgson',\n",
       " 'Karen Asrian',\n",
       " 'Kateryna Lagno',\n",
       " 'Kevin Bordi',\n",
       " 'Kirill Alekseenko',\n",
       " 'Kirill Shevchenko',\n",
       " 'Krikor Sevag Mekhitarian',\n",
       " 'L Lucena',\n",
       " 'Lajos Portisch',\n",
       " 'Larry M Evans',\n",
       " 'Lawrence Trent',\n",
       " 'Le Quang Liem',\n",
       " 'Lei Tingjie',\n",
       " 'Leinier Dominguez Perez',\n",
       " 'Lela Javakhishvili',\n",
       " 'Lev Polugaevsky',\n",
       " 'Levon Aronian',\n",
       " 'Levy Rozman',\n",
       " 'Li Chao',\n",
       " 'Liviu-Dieter Nisipeanu',\n",
       " 'Loek van Wely',\n",
       " 'Logic',\n",
       " 'Lothar Schmid',\n",
       " 'Louis Paulsen',\n",
       " 'Louis-Charles Mahe de La Bourdonnais',\n",
       " 'Ludwig',\n",
       " 'Luis Fernandez Siles',\n",
       " 'Luis Paulo Supi',\n",
       " 'Luke J McShane',\n",
       " 'Lyudmila Rudenko',\n",
       " 'Maia Chiburdanidze',\n",
       " 'Maria Emelianova',\n",
       " 'Marie Sebag',\n",
       " 'Mariya Muzychuk',\n",
       " 'Mark Dvoretsky',\n",
       " 'Mark E Taimanov',\n",
       " 'Markus Ragger',\n",
       " 'Matthew D Sadler',\n",
       " 'Matthias Bluebaum',\n",
       " 'Maurice Ashley',\n",
       " 'Max Euwe',\n",
       " 'Max Lange',\n",
       " 'Maxim Matlakov',\n",
       " 'Maxime Lagarde',\n",
       " 'Maxime Vachier-Lagrave',\n",
       " 'Meri Arabidze',\n",
       " 'Michael Adams',\n",
       " 'Michelle Khare',\n",
       " 'Miguel Najdorf',\n",
       " 'Mike Klein',\n",
       " 'Mikhail Chigorin',\n",
       " 'Mir Sultan Khan',\n",
       " 'Mohammad Amin Tabatabaei',\n",
       " 'MoistCr1tikal',\n",
       " 'Monika Socko',\n",
       " 'MrBeast',\n",
       " 'Myth',\n",
       " 'Nadezhda Kosintseva',\n",
       " 'Nana Dzagnidze',\n",
       " 'Natalia Pogonina',\n",
       " 'Nataliya Buksa',\n",
       " 'Nazi Paikidze',\n",
       " 'Neeko',\n",
       " 'Nemo Qiyu Zhou',\n",
       " 'Ni Hua',\n",
       " 'Nigel D Short',\n",
       " 'Nihal Sarin',\n",
       " 'Nijat Abasov',\n",
       " 'Nikita Vitiugov',\n",
       " 'Nils Grandelius',\n",
       " 'Nino Batsiashvili',\n",
       " 'Nodirbek Abdusattorov',\n",
       " 'Nodirbek Yakubboev',\n",
       " 'Nona Gaprindashvili',\n",
       " 'Olexandr Bortnyk',\n",
       " 'Olga Alexandrova',\n",
       " 'Olga Badelka',\n",
       " 'Olga Girya',\n",
       " 'Pal C Benko',\n",
       " 'Parham Maghsoodloo',\n",
       " 'Paul Keres',\n",
       " 'Pavel Eljanov',\n",
       " 'Pedro Damiano',\n",
       " 'Pentala Harikrishna',\n",
       " 'Peter Doggers',\n",
       " 'Peter Leko',\n",
       " 'Peter Svidler',\n",
       " 'Phiona Mutesi',\n",
       " 'Pia Cramling',\n",
       " 'Pierre de Saint-Amant',\n",
       " 'Pokimane',\n",
       " 'Polina Shuvalova',\n",
       " 'Pontus Carlsson',\n",
       " 'Praggnanandhaa R',\n",
       " 'Radoslaw Wojtaszek',\n",
       " 'Rainn Wilson',\n",
       " 'Rauf Mamedov',\n",
       " 'Raunak Sadhwani',\n",
       " 'Ray Robson',\n",
       " 'Raymond D Keene',\n",
       " 'Reuben Fine',\n",
       " 'Richard Rapport',\n",
       " 'Richard Reti',\n",
       " 'Robert E Byrne',\n",
       " 'Robert Hess',\n",
       " 'Roberto Molina',\n",
       " 'Robin van Kampen',\n",
       " 'Rubius',\n",
       " 'Rudolf Spielmann',\n",
       " 'Ruslan Ponomariov',\n",
       " 'Rustam Kasimdzhanov',\n",
       " 'Rusudan Goletiani',\n",
       " 'Ruy Lopez De Segura',\n",
       " 'Sabina-Francesca Foisor',\n",
       " 'Saleh Salem',\n",
       " 'Salomon M Flohr',\n",
       " 'Sam Copeland',\n",
       " 'Samuel Reshevsky',\n",
       " 'Samuel Sevian',\n",
       " 'Samuel Shankland',\n",
       " 'Sanan Sjugirov',\n",
       " 'Santosh Gujrathi Vidit',\n",
       " 'Sarasadat Khademalsharieh',\n",
       " 'Sardoche',\n",
       " 'Savielly Tartakower',\n",
       " 'Sean Senft',\n",
       " 'Sergei Rublevsky',\n",
       " 'Sergey Karjakin',\n",
       " 'Shakhriyar Mamedyarov',\n",
       " 'Shant Sargsyan',\n",
       " 'Siegbert Tarrasch',\n",
       " 'Simon Williams',\n",
       " 'Stein Leonid Z',\n",
       " 'Susan Polgar',\n",
       " 'Tan Zhongyi',\n",
       " 'Tania Sachdev',\n",
       " 'Tatev Abrahamyan',\n",
       " 'Teimour Radjabov',\n",
       " 'Thanh Trang Hoang',\n",
       " 'Tigran Petrosian',\n",
       " 'Tuan Minh Le',\n",
       " 'Tubbo',\n",
       " 'Tuduetso Sabure',\n",
       " 'Ulf Andersson',\n",
       " 'Valentina Gunina',\n",
       " 'Valery Salov',\n",
       " 'Vasily Smyslov',\n",
       " 'Vassily Ivanchuk',\n",
       " 'Vera Menchik',\n",
       " 'Veselin Topalov',\n",
       " 'Viktor Korchnoi',\n",
       " 'Viktorija Cmilyte',\n",
       " 'Vincent Keymer',\n",
       " 'Vladimir Akopian',\n",
       " 'Vladimir Fedoseev',\n",
       " 'Vladimir Kramnik',\n",
       " 'Vladimir Malakhov',\n",
       " 'Vladislav Artemiev',\n",
       " 'Vladislav Kovalev',\n",
       " 'Wang Hao',\n",
       " 'Wang Jue',\n",
       " 'Wang Yue',\n",
       " 'Wei Yi',\n",
       " 'Wesley So',\n",
       " 'Wilhelm Steinitz',\n",
       " 'Wolfgang Unzicker',\n",
       " 'Xie Jun',\n",
       " 'xQc',\n",
       " 'Yasser Seirawan',\n",
       " 'Yu Yangyi',\n",
       " 'Yuri L Averbakh',\n",
       " 'Yuriy Kryvoruchko',\n",
       " 'Zhansaya Abdumalik',\n",
       " 'Zhao Xue',\n",
       " \"Zhu Jin'er\",\n",
       " 'Zoltan Almasi',\n",
       " 'xQc ']"
      ]
     },
     "execution_count": 27,
     "metadata": {},
     "output_type": "execute_result"
    }
   ],
   "source": [
    "list_of_top_players"
   ]
  },
  {
   "cell_type": "markdown",
   "metadata": {},
   "source": [
    "#### With Multiprocessing!"
   ]
  },
  {
   "cell_type": "code",
   "execution_count": 38,
   "metadata": {},
   "outputs": [],
   "source": [
    "from multiprocessing.pool import ThreadPool as Pool\n",
    "# from multiprocessing import Pool\n",
    "\n",
    "pool_size = 4  # your \"parallelness\"\n",
    "\n",
    "scraper=AutoScraper()\n",
    "base_url=\"https://www.chess.com/games\"\n",
    "scraper.load('list-of-top-players')\n",
    "list_of_top_players = []\n",
    "\n",
    "new_url = []\n",
    "for i in range(1,50):\n",
    "    new_url.append(base_url + \"?page=\" + str(i))\n",
    "\n",
    "# define worker function before a Pool is instantiated\n",
    "def worker(item):\n",
    "    try:\n",
    "        list_of_top_players.extend(list(scraper.get_result_similar(item)))\n",
    "    except:\n",
    "        print('error with item')\n",
    "\n",
    "pool = Pool(pool_size)\n",
    "\n",
    "for item in new_url:\n",
    "    pool.apply_async(worker, (item,))\n",
    "\n",
    "pool.close()\n",
    "pool.join()"
   ]
  },
  {
   "cell_type": "code",
   "execution_count": 39,
   "metadata": {},
   "outputs": [
    {
     "data": {
      "text/plain": [
       "['Adolf Anderssen',\n",
       " 'Akiba Rubinstein',\n",
       " 'Alan Pichot',\n",
       " 'Aleksandr Rakhmanov',\n",
       " 'Aleksandra Goryachkina',\n",
       " 'Aleksey Dreev',\n",
       " 'Alessia Carmen Santeramo',\n",
       " 'Alex Yermolinsky',\n",
       " 'Alexander A Kotov',\n",
       " 'Alexander Areshchenko',\n",
       " 'Andrea Botez',\n",
       " 'Andrei Volokitin',\n",
       " 'Andrew Tang',\n",
       " 'Andrey Esipenko',\n",
       " 'Anish Giri',\n",
       " 'Anna Cramling Bellon',\n",
       " 'Anna Muzychuk',\n",
       " 'Anna Rudolf',\n",
       " 'Anna Ushenina',\n",
       " 'Anna Zatonskih',\n",
       " 'Antoaneta Stefanova',\n",
       " 'Anton Korobov',\n",
       " 'Anton Smirnov',\n",
       " 'Antonio Radic',\n",
       " 'Aram Hakobyan',\n",
       " 'Arjun Erigaisi',\n",
       " 'Arkadij Naiditsch',\n",
       " 'Aron Nimzowitsch',\n",
       " 'Artur Yusupov',\n",
       " 'Aryan Tari',\n",
       " 'Alexander Donchenko',\n",
       " 'Alexander Grischuk',\n",
       " 'Alexander K Tolush',\n",
       " 'Alexander Khalifman',\n",
       " 'Alexander McDonnell',\n",
       " 'Alexander Morozevich',\n",
       " 'Alexander Onischuk',\n",
       " 'Alexandr Predke',\n",
       " 'Alexandra Botez',\n",
       " 'Alexandra Kosteniuk',\n",
       " 'Alexei Shirov',\n",
       " 'Alexey Sarana',\n",
       " 'Alina Kashlinskaya',\n",
       " 'Alireza Firouzja',\n",
       " 'Alisa Galliamova',\n",
       " 'Aman Hambleton',\n",
       " 'Amon Simutowe',\n",
       " 'Ana Matnadze',\n",
       " 'Anastasia Bodnaruk',\n",
       " 'Anatoly Karpov',\n",
       " 'Bernhard Horwitz',\n",
       " 'Bogdan-Daniel Deac',\n",
       " 'Boris Gelfand',\n",
       " 'Boris Spassky',\n",
       " 'Bruce Pandolfini',\n",
       " 'Bu Xiangzhi',\n",
       " 'Bukhuti Gurgenidze',\n",
       " 'Carissa Yip',\n",
       " 'Carl Schlechter',\n",
       " 'Christopher Woojin Yoo',\n",
       " 'Codemiko',\n",
       " 'Constantin Lupulescu',\n",
       " 'Daniel Naroditsky',\n",
       " 'Daniel Negreanu',\n",
       " 'Daniel Rensch',\n",
       " 'Daniil Dubov',\n",
       " 'Dariusz Swiercz',\n",
       " 'David Anton Guijarro',\n",
       " 'David Bronstein',\n",
       " 'David Janowsky',\n",
       " 'David Navara',\n",
       " 'David W L Howell',\n",
       " 'Dinara Saduakassova',\n",
       " 'Ding Liren',\n",
       " 'Ding Yixin',\n",
       " 'Dmitry Andreikin',\n",
       " 'Dmitry Jakovenko',\n",
       " 'Edgard Colle',\n",
       " 'Efim Bogoljubov',\n",
       " 'Ekaterina Atalik',\n",
       " 'Awonder Liang',\n",
       " 'Baadur Jobava',\n",
       " 'Bartosz Rudecki',\n",
       " 'Baskaran Adhiban',\n",
       " 'Bassem Amin',\n",
       " 'Batkhuyag Munguntuul',\n",
       " 'Bela Khotenashvili',\n",
       " 'Benjamin Finegold',\n",
       " 'Benjyfishy',\n",
       " 'Bent Larsen',\n",
       " 'Elina Groberman',\n",
       " 'Emanuel Lasker',\n",
       " 'Emory Tate',\n",
       " 'Eric Hansen',\n",
       " 'Ernesto Inarkiev',\n",
       " 'Ernst K Falkbeer',\n",
       " 'Etienne Bacrot',\n",
       " 'Eugene Perelshteyn',\n",
       " 'Evgeniy Najer',\n",
       " 'Evgeny Tomashevsky',\n",
       " 'Ferenc Berkes',\n",
       " 'Francisco Vallejo Pons',\n",
       " 'Francois-Andre Danican Philidor',\n",
       " 'Frank Johnson',\n",
       " 'Frank Marshall',\n",
       " 'Gabriel Sargissian',\n",
       " 'Gadir Guseinov',\n",
       " 'Gata Kamsky',\n",
       " 'Gawain Jones',\n",
       " 'Gedeon Barcza',\n",
       " 'Geza Maroczy',\n",
       " 'Gioachino Greco',\n",
       " 'Greg Shahade',\n",
       " 'Gregory Kaidanov',\n",
       " 'Gregory Serper',\n",
       " 'Grigoriy Oparin',\n",
       " 'Gukesh D',\n",
       " 'Gunay Mammadzada',\n",
       " 'Guo Qi',\n",
       " 'Gyula Breyer',\n",
       " 'Harika Dronavalli',\n",
       " 'Harry Nelson Pillsbury',\n",
       " 'Henrique Mecking',\n",
       " 'Henry Bird',\n",
       " 'Hou Yifan',\n",
       " 'Howard Staunton',\n",
       " 'Hrant Melkumyan',\n",
       " 'Huang Qian',\n",
       " 'Humpy Koneru',\n",
       " 'Ian Nepomniachtchi',\n",
       " 'Igor Glek',\n",
       " 'Igors Rausis',\n",
       " 'Illya Nyzhnyk',\n",
       " 'Irina Bulmaga',\n",
       " 'Irina Krush',\n",
       " 'Isidor Gunsberg',\n",
       " 'Iulija Osmak',\n",
       " 'Ivan Cheparinov',\n",
       " 'Ivan Saric',\n",
       " 'James Canty',\n",
       " 'L Lucena',\n",
       " 'Lajos Portisch',\n",
       " 'Larry M Evans',\n",
       " 'Lawrence Trent',\n",
       " 'Le Quang Liem',\n",
       " 'Lei Tingjie',\n",
       " 'Leinier Dominguez Perez',\n",
       " 'Lela Javakhishvili',\n",
       " 'Lev Polugaevsky',\n",
       " 'Joseph H Blackburne',\n",
       " 'Joshua Waitzkin',\n",
       " 'Ju Wenjun',\n",
       " 'Julian M Hodgson',\n",
       " 'Karen Asrian',\n",
       " 'Kateryna Lagno',\n",
       " 'Kevin Bordi',\n",
       " 'Kirill Alekseenko',\n",
       " 'Kirill Shevchenko',\n",
       " 'Krikor Sevag Mekhitarian',\n",
       " 'Levon Aronian',\n",
       " 'Levy Rozman',\n",
       " 'Li Chao',\n",
       " 'Liviu-Dieter Nisipeanu',\n",
       " 'Loek van Wely',\n",
       " 'Logic',\n",
       " 'Lothar Schmid',\n",
       " 'Louis Paulsen',\n",
       " 'Louis-Charles Mahe de La Bourdonnais',\n",
       " 'Ludwig',\n",
       " 'Luis Fernandez Siles',\n",
       " 'Luis Paulo Supi',\n",
       " 'Luke J McShane',\n",
       " 'Lyudmila Rudenko',\n",
       " 'Maia Chiburdanidze',\n",
       " 'Maria Emelianova',\n",
       " 'Marie Sebag',\n",
       " 'Mariya Muzychuk',\n",
       " 'Mark Dvoretsky',\n",
       " 'Mark E Taimanov',\n",
       " 'Markus Ragger',\n",
       " 'Matthew D Sadler',\n",
       " 'Matthias Bluebaum',\n",
       " 'Maurice Ashley',\n",
       " 'Max Euwe',\n",
       " 'Max Lange',\n",
       " 'Maxim Matlakov',\n",
       " 'Maxime Lagarde',\n",
       " 'Maxime Vachier-Lagrave',\n",
       " 'Meri Arabidze',\n",
       " 'Michael Adams',\n",
       " 'Michelle Khare',\n",
       " 'Miguel Najdorf',\n",
       " 'Mike Klein',\n",
       " 'Mikhail Chigorin',\n",
       " 'Mir Sultan Khan',\n",
       " 'Mohammad Amin Tabatabaei',\n",
       " 'MoistCr1tikal',\n",
       " 'Monika Socko',\n",
       " 'MrBeast',\n",
       " 'Jan H Timman',\n",
       " 'Jan-Krzysztof Duda',\n",
       " 'Jeffery Xiong',\n",
       " 'Jennifer Shahade',\n",
       " 'Jennifer Yu',\n",
       " 'Johannes Zukertort',\n",
       " 'John D M Nunn',\n",
       " 'Jon Ludvig Hammer',\n",
       " 'Jorden van Foreest',\n",
       " 'Jorge Cori',\n",
       " 'Myth',\n",
       " 'Nadezhda Kosintseva',\n",
       " 'Nana Dzagnidze',\n",
       " 'Natalia Pogonina',\n",
       " 'Nataliya Buksa',\n",
       " 'Nazi Paikidze',\n",
       " 'Neeko',\n",
       " 'Nemo Qiyu Zhou',\n",
       " 'Ni Hua',\n",
       " 'Nigel D Short',\n",
       " 'Nihal Sarin',\n",
       " 'Nijat Abasov',\n",
       " 'Nikita Vitiugov',\n",
       " 'Nils Grandelius',\n",
       " 'Nino Batsiashvili',\n",
       " 'Nodirbek Abdusattorov',\n",
       " 'Nodirbek Yakubboev',\n",
       " 'Nona Gaprindashvili',\n",
       " 'Olexandr Bortnyk',\n",
       " 'Olga Alexandrova',\n",
       " 'Olga Badelka',\n",
       " 'Olga Girya',\n",
       " 'Pal C Benko',\n",
       " 'Parham Maghsoodloo',\n",
       " 'Paul Keres',\n",
       " 'Pavel Eljanov',\n",
       " 'Pedro Damiano',\n",
       " 'Pentala Harikrishna',\n",
       " 'Peter Doggers',\n",
       " 'Peter Leko',\n",
       " 'Peter Svidler',\n",
       " 'Phiona Mutesi',\n",
       " 'Pia Cramling',\n",
       " 'Pierre de Saint-Amant',\n",
       " 'Pokimane',\n",
       " 'Polina Shuvalova',\n",
       " 'Pontus Carlsson',\n",
       " 'Praggnanandhaa R',\n",
       " 'Radoslaw Wojtaszek',\n",
       " 'Rainn Wilson',\n",
       " 'Rauf Mamedov',\n",
       " 'Raunak Sadhwani',\n",
       " 'Ray Robson',\n",
       " 'Raymond D Keene',\n",
       " 'Reuben Fine',\n",
       " 'Richard Rapport',\n",
       " 'Richard Reti',\n",
       " 'Robert E Byrne',\n",
       " 'Robert Hess',\n",
       " 'Roberto Molina',\n",
       " 'Robin van Kampen',\n",
       " 'Rubius',\n",
       " 'Rudolf Spielmann',\n",
       " 'Ruslan Ponomariov',\n",
       " 'Rustam Kasimdzhanov',\n",
       " 'Rusudan Goletiani',\n",
       " 'Ruy Lopez De Segura',\n",
       " 'Sabina-Francesca Foisor',\n",
       " 'Saleh Salem',\n",
       " 'Salomon M Flohr',\n",
       " 'Sergei Rublevsky',\n",
       " 'Sergey Karjakin',\n",
       " 'Shakhriyar Mamedyarov',\n",
       " 'Shant Sargsyan',\n",
       " 'Siegbert Tarrasch',\n",
       " 'Simon Williams',\n",
       " 'Stein Leonid Z',\n",
       " 'Susan Polgar',\n",
       " 'Tan Zhongyi',\n",
       " 'Tania Sachdev',\n",
       " 'Sam Copeland',\n",
       " 'Samuel Reshevsky',\n",
       " 'Samuel Sevian',\n",
       " 'Samuel Shankland',\n",
       " 'Sanan Sjugirov',\n",
       " 'Santosh Gujrathi Vidit',\n",
       " 'Sarasadat Khademalsharieh',\n",
       " 'Sardoche',\n",
       " 'Savielly Tartakower',\n",
       " 'Sean Senft',\n",
       " 'Vasily Smyslov',\n",
       " 'Vassily Ivanchuk',\n",
       " 'Vera Menchik',\n",
       " 'Veselin Topalov',\n",
       " 'Viktor Korchnoi',\n",
       " 'Viktorija Cmilyte',\n",
       " 'Vincent Keymer',\n",
       " 'Vladimir Akopian',\n",
       " 'Vladimir Fedoseev',\n",
       " 'Vladimir Kramnik',\n",
       " 'Tatev Abrahamyan',\n",
       " 'Teimour Radjabov',\n",
       " 'Thanh Trang Hoang',\n",
       " 'Tigran Petrosian',\n",
       " 'Tuan Minh Le',\n",
       " 'Tubbo',\n",
       " 'Tuduetso Sabure',\n",
       " 'Ulf Andersson',\n",
       " 'Valentina Gunina',\n",
       " 'Valery Salov',\n",
       " 'Vladimir Malakhov',\n",
       " 'Vladislav Artemiev',\n",
       " 'Vladislav Kovalev',\n",
       " 'Wang Hao',\n",
       " 'Wang Jue',\n",
       " 'Wang Yue',\n",
       " 'Wei Yi',\n",
       " 'Wesley So',\n",
       " 'Wilhelm Steinitz',\n",
       " 'Wolfgang Unzicker',\n",
       " 'Xie Jun',\n",
       " 'xQc',\n",
       " 'Yasser Seirawan',\n",
       " 'Yu Yangyi',\n",
       " 'Yuri L Averbakh',\n",
       " 'Yuriy Kryvoruchko',\n",
       " 'Zhansaya Abdumalik',\n",
       " 'Zhao Xue',\n",
       " \"Zhu Jin'er\",\n",
       " 'Zoltan Almasi',\n",
       " 'xQc ']"
      ]
     },
     "execution_count": 39,
     "metadata": {},
     "output_type": "execute_result"
    }
   ],
   "source": [
    "list_of_top_players"
   ]
  },
  {
   "cell_type": "code",
   "execution_count": 40,
   "metadata": {},
   "outputs": [
    {
     "data": {
      "text/plain": [
       "<Response [200]>"
      ]
     },
     "execution_count": 40,
     "metadata": {},
     "output_type": "execute_result"
    }
   ],
   "source": [
    "import requests\n",
    "page = requests.get(\"https://chess24.com/en/analysis\")\n",
    "page"
   ]
  },
  {
   "cell_type": "code",
   "execution_count": 74,
   "metadata": {},
   "outputs": [
    {
     "data": {
      "text/plain": [
       "b'\\n    <!DOCTYPE html>\\n    <html lang=\"en\">\\n    <head>\\n\\t        <meta http-equiv=\"Content-type\" content=\"text/html; charset=utf-8\"/>\\n    <meta id=\"version\" name=\"version\" content=\"2021-04-29.0\">\\n    <link rel=\"media-url\" href=\"https://assets.chess24.com/assets/daca8a93e26446f1e7d52cedb56a5fe1\"/>\\n    \\n    <!--\\n    Love the idea of working for chess24?\\n    Please get in touch with us!\\n    https://chess24.com/jobs  \\n    -->\\n\\n    <link rel=\"stylesheet\" type=\"text/css\" href=\"https://assets.chess24.com/assets/daca8a93e26446f1e7d52cedb56a5fe1/css/chess24.css\" />\\n<script type=\"text/javascript\">\\n/*<![CDATA[*/\\nvar assetsBasePath = \"https://assets.chess24.com/assets/daca8a93e26446f1e7d52cedb56a5fe1\"\\n/*]]>*/\\n</script>\\n<title>Chess database, analysis and live coaching | chess24.com</title>\\n        <meta name=\"description\" content=\"Chess database, online computer engine analysis and live chess coaching and training tools \">\\n    <meta name=\"keywords\" content=\"chess, online chess, analysis, chess games database, coaching, training, engine\">\\n    <meta name=\"msapplication-config\" content=\"none\"/>\\n    <meta name=\"apple-itunes-app\" content=\"app-id=564777203, app-argument=https://chess24.com/en/analysis\">\\n    <meta name=\"viewport\" content=\"width=device-width, initial-scale=1\">\\n    <meta property=\"og:image\" content=\"https://chess24.com/images/c24_share_default.png?t=1\">\\n    <meta property=\"og:url\" content=\"https://chess24.com/en/analysis\">\\n    <meta property=\"og:site_name\" content=\"chess24.com\">\\n    <meta property=\"og:title\" content=\"Chess database, analysis and live coaching\">\\n    <meta property=\"og:description\" content=\"Chess database, online computer engine analysis and live chess coaching and training tools \">\\n\\n    \\n    <link rel=\"apple-touch-icon\" sizes=\"57x57\" href=\"https://assets.chess24.com/assets/daca8a93e26446f1e7d52cedb56a5fe1/images/favicon/apple-icon-57x57.png\">\\n    <link rel=\"apple-touch-icon\" sizes=\"60x60\" href=\"https://assets.chess24.com/assets/daca8a93e26446f1e7d52cedb56a5fe1/images/favicon/apple-icon-60x60.png\">\\n    <link rel=\"apple-touch-icon\" sizes=\"72x72\" href=\"https://assets.chess24.com/assets/daca8a93e26446f1e7d52cedb56a5fe1/images/favicon/apple-icon-72x72.png\">\\n    <link rel=\"apple-touch-icon\" sizes=\"76x76\" href=\"https://assets.chess24.com/assets/daca8a93e26446f1e7d52cedb56a5fe1/images/favicon/apple-icon-76x76.png\">\\n    <link rel=\"apple-touch-icon\" sizes=\"114x114\" href=\"https://assets.chess24.com/assets/daca8a93e26446f1e7d52cedb56a5fe1/images/favicon/apple-icon-114x114.png\">\\n    <link rel=\"apple-touch-icon\" sizes=\"120x120\" href=\"https://assets.chess24.com/assets/daca8a93e26446f1e7d52cedb56a5fe1/images/favicon/apple-icon-120x120.png\">\\n    <link rel=\"apple-touch-icon\" sizes=\"144x144\" href=\"https://assets.chess24.com/assets/daca8a93e26446f1e7d52cedb56a5fe1/images/favicon/apple-icon-144x144.png\">\\n    <link rel=\"apple-touch-icon\" sizes=\"152x152\" href=\"https://assets.chess24.com/assets/daca8a93e26446f1e7d52cedb56a5fe1/images/favicon/apple-icon-152x152.png\">\\n    <link rel=\"apple-touch-icon\" sizes=\"180x180\" href=\"https://assets.chess24.com/assets/daca8a93e26446f1e7d52cedb56a5fe1/images/favicon/apple-icon-180x180.png\">\\n    \\n    <link rel=\"icon\" type=\"image/png\" sizes=\"192x192\"  href=\"/images/favicon/android-icon-192x192.png\">\\n    <link rel=\"icon\" type=\"image/png\" sizes=\"32x32\" href=\"/images/favicon/favicon-32x32.png\">\\n    <link rel=\"icon\" type=\"image/png\" sizes=\"96x96\" href=\"/images/favicon/favicon-96x96.png\">\\n    <link rel=\"icon\" type=\"image/png\" sizes=\"16x16\" href=\"/images/favicon/favicon-16x16.png\">\\n    \\n    <meta name=\"msapplication-TileColor\" content=\"#ffffff\">\\n    <meta name=\"msapplication-TileImage\" content=\"/images/favicon/ms-icon-144x144.png\">\\n\\n    <link rel=\"manifest\" href=\"/images/favicon/manifest.json\">\\n    <meta name=\"theme-color\" content=\"#ffffff\">\\n    <meta name=\"apple-mobile-web-app-title\" content=\"chess24\">\\n    <meta name=\"application-name\" content=\"chess24\">\\n    \\n    <link rel=\"embed-url\"/>\\n    \\n    <script>\\r\\n    dataLayer = [];\\r\\n</script>\\r\\n\\r\\n<!-- Google Tag Manager -->\\r\\n<script>(function (w, d, s, l, i) {\\r\\n        w[l] = w[l] || [];\\r\\n        w[l].push({\\r\\n            \\'gtm.start\\': new Date().getTime(), event: \\'gtm.js\\'\\r\\n        });\\r\\n        var f = d.getElementsByTagName(s)[0],\\r\\n            j = d.createElement(s), dl = l != \\'dataLayer\\' ? \\'&l=\\' + l : \\'\\';\\r\\n        j.async = true;\\r\\n        j.src =\\r\\n            \\'https://www.googletagmanager.com/gtm.js?id=\\' + i + dl;\\r\\n        f.parentNode.insertBefore(j, f);\\r\\n    })(window, document, \\'script\\', \\'dataLayer\\', \\'GTM-5VFFNC\\');\\r\\n</script>\\r\\n<!-- End Google Tag Manager -->      <!-- anti-flicker -->\\r\\n  <style>.async-hide { opacity: 0 !important} </style>\\r\\n  <script>\\r\\n    (function(a,s,y,n,c,h,i,d,e){s.className+=\\' \\'+y;h.start=1*new Date;\\r\\n    h.end=i=function(){s.className=s.className.replace(RegExp(\\' ?\\'+y),\\'\\')};\\r\\n    (a[n]=a[n]||[]).hide=h;setTimeout(function(){i();h.end=null},c);h.timeout=c;\\r\\n    })(window,document.documentElement,\\'async-hide\\',\\'dataLayer\\',4000,\\r\\n    {\\'GTM-M4F2FCV\\':true});\\r\\n  </script>\\r\\n\\n    \\n</head>\\n    <body class=\"sUserLevelCSS\">\\n    <!-- Google Tag Manager (noscript) -->\\n    <noscript><iframe src=\"https://www.googletagmanager.com/ns.html?id=GTM-5VFFNC\" height=\"0\" width=\"0\" style=\"display:none;visibility:hidden\"></iframe></noscript>\\n    <!-- End Google Tag Manager (noscript) -->\\n    <!-- body container -->\\n        <div class=\"bodyContainer mainLayout chessDatabase chessDatabase_index\">\\n\\n        <!-- header -->\\n<header class=\"pageHeader\">\\n\\t<div class=\"overLayer\"></div>\\n\\t<div class=\"pageWrap\">\\n\\n\\t\\t\\n        <div class=\"logo\">\\n            <a id=\"logo\" class=\"c24-logo\" href=\"/en/dashboard\"></a>\\n        </div>\\n\\n        \\n        <!-- nav container -->\\n        <div class=\"navContainerWrapper\">\\n            \\n            <span class=\"menuBurgerButton\" data-class-setter-on-click = \\'{\"classname\":\"showAdaptiveMenu\", \"method\":\"toggle\", \"target\":\".navContainerWrapper\"}\\'>\\n                <span></span>\\n            </span>\\n            \\n            <div class=\"navContainer\">\\n                \\n                <!-- main menu -->\\n                <nav class=\"mainMenu\">\\n                                                <ul class=\"expandingMenuList\">\\n        <li class=\"expandingMenu menuGroup menuGroupPlay\">\\n            <a href=\"/en/play/chess\" class=\"expandingMenuTitle\"><span>Play</span></a>\\n            <input class=\"expandingMenuTrigger\" type=\"checkbox\" id=\"trigerMenuPlay\" name=\"\">\\n            <label class=\"expandingMenuTriggerLabel\" for=\"trigerMenuPlay\"><span>Play</span></label>\\n            <div class=\"secondaryMenuWrapper\">\\n                <div class=\"flexWrapper\">\\n                    <ul class=\"\">\\n                        <li class=\"mmenuLabPlay js-linkNewPlayzone\" style=\"display: none\">\\n                            <a href=\"https://play.chess24.com/\">\\n                                Playzone<span style=\"font-size: 0.7em; vertical-align: top;\">2</span> \\n                                <span style=\"font-size: 0.7em; vertical-align: top; color: #ff8400; font-style: normal;\">\\n                                    PREVIEW                                </span>\\n                                <p>Try our early versions of the new Playzone before we roll them out to everyone</p>\\n                            </a>\\n                        </li>\\n                        <li class=\"mmenuPlayNow\">\\n                            <a href=\"/en/play/chess\">\\n                                Play Now<p>Play a game against a human or computer opponent</p>\\n                            </a>\\n                        </li>\\n                        <li class=\"mmenuPlayLobby\">\\n                            <a href=\"/en/play/chess\">\\n                                Lobby<p>Find other players, chat, and watch games in progress</p>\\n                            </a>\\n                        </li>\\n                    </ul>\\n                    <ul>\\n                        <li class=\"mmenuPlayzoneTournaments\">\\n                            <a href=\"/en/play/tournaments\">\\n                                Tournaments<p>Compete for trophies in the ultimate multiplayer challenge</p>\\n                            </a>\\n                        </li>\\n                    </ul>\\n                    <ul>\\n                        <li class=\"mmenuPlayLeaderboard\">\\n                            <a href=\"/en/play/leaderboard\">\\n                                Leaderboard<p>See who\\'s on top and how you compare!</p>\\n                            </a>\\n                        </li>\\n                    </ul>\\n                </div>\\n            </div>\\n        </li>\\n\\n        <li class=\"expandingMenu menuGroup menuGroupLearn\">\\n            <a href=\"/en/learn\" class=\"expandingMenuTitle\"><span>Learn</span></a>\\n            <input class=\"expandingMenuTrigger\" type=\"checkbox\" id=\"trigerMenuLearn\" name=\"\">\\n            <label class=\"expandingMenuTriggerLabel\" for=\"trigerMenuLearn\"><span>Learn</span></label>\\n            <div class=\"secondaryMenuWrapper has-fourCols\">\\n                <div class=\"flexWrapper\">\\n                    <ul>\\n                        <li class=\"mmenuLearningPath\">\\n                            <a href=\"/en/learn/school\">\\n                                Courses<p>Play better chess with our structured learning paths</p>\\n                            </a>\\n                        </li>\\n                                                    <li class=\"mmenuIntermediate\">\\n                                <a href=\"https://www.chessable.com/?utm_source=chess24&utm_medium=navigation_bar&utm_campaign=partner\" target=\"_blank\">\\n                                    chessable<p>Drill with the power of MoveTrainer&trade;</p>\\n                                </a>\\n                            </li>\\n                                            </ul>\\n                    <ul>\\n                        <li class=\"mmenuVideosLessons\">\\n                            <a href=\"/en/learn/videoseries\">\\n                                Video Series<p>Top players share their secrets through interactive lessons</p>\\n                            </a>\\n                        </li>\\n                        <li class=\"mmenuEbooks\">\\n                            <a href=\"/en/learn/ebooks\">\\n                                eBooks<p>Browse expert analysis at leisure with our chess game viewer</p>\\n                            </a>\\n                        </li>\\n                    </ul>\\n                    <ul>\\n                        <li class=\"mmenuTacticTrainer\">\\n                            <a href=\"/en/learn/tactics-trainer\">\\n                                Tactics Trainer <p>Improve your tactical skills with puzzles adapted to your level</p>\\n                            </a>\\n                        </li>\\n                        <li class=\"mmenuChessDatabase active\">\\n                            <a href=\"/en/analysis\">\\n                                Database & Analysis <p>Use our database, engine and live training tool</p>\\n                            </a>\\n                        </li>\\n                    </ul>\\n                                            <ul>\\n                            <li class=\"mmenuCochess\">\\n                                <a href=\"https://cochess.com/\" target=\"_blank\">\\n                                    CoChess<p>Join the first ever all-in-one chess coaching & learning platform</p>\\n                                </a>\\n                            </li>\\n                        </ul>\\n                                    </div>\\n            </div>\\n        </li>\\n\\n        <li class=\"expandingMenu menuGroup menuGroupRead\">\\n            <a href=\"/en/read/news\" class=\"expandingMenuTitle\"><span>Read</span></a>\\n            <input class=\"expandingMenuTrigger\" type=\"checkbox\" id=\"trigerMenuRead\" name=\"\">\\n            <label class=\"expandingMenuTriggerLabel\" for=\"trigerMenuRead\"><span>Read</span></label>\\n            <div class=\"secondaryMenuWrapper\">\\n                <div class=\"flexWrapper\">\\n                    <ul>\\n                        <li class=\"mmenuNews\">\\n                            <a href=\"/en/read/news\">\\n                                News<p>Keep up to date with all that\\'s going on in the chess world</p>\\n                            </a>\\n                        </li>\\n                        <li class=\"mmenuCommunity\">\\n                            <a href=\"/en/community\">\\n                                Community                                <p>Tell your stories or join the debate in the area where you set the agenda!</p>\\n                            </a>\\n                        </li>\\n                    </ul>\\n                    <ul>\\n                        <li class=\"mmenuEbooks\">\\n                            <a href=\"/en/learn/ebooks\">\\n                                eBooks<p>Browse expert analysis at leisure with our chess game viewer</p>\\n                            </a>\\n                        </li>\\n                    </ul>\\n                    <ul>    \\n                        <li class=\"mmenuPlayers\">\\n                            <a href=\"/en/read/players\">\\n                                Players<p>Who\\'s who in chess? Bios, ratings, games and more</p>\\n                            </a>\\n                        </li>\\n                        <li class=\"mmenuGlossary\">\\n                            <a href=\"/en/read/glossary\">\\n                                Glossary<p>An A-Z guide to all the chess terms you need to know</p>\\n                            </a>\\n                        </li>\\n                    </ul>\\n                </div>\\n            </div>\\n        </li>\\n\\n        <li class=\"expandingMenu menuGroup menuGroupWatch\">\\n            <a href=\"/en/watch\" class=\"expandingMenuTitle\"><span>Watch</span></a>\\n            <input class=\"expandingMenuTrigger\" type=\"checkbox\" id=\"trigerMenuWatch\" name=\"\">\\n            <label class=\"expandingMenuTriggerLabel\" for=\"trigerMenuWatch\"><span>Watch</span></label>\\n            <div class=\"secondaryMenuWrapper\">\\n                <div class=\"flexWrapper\">\\n                    <ul class=\"\">\\n                        <li class=\"mmenuTournaments\">\\n                            <a href=\"/en/watch/live-tournaments\">\\n                                Live Tournaments<p>Live broadcasts from top events</p>\\n                            </a>\\n                        </li>\\n                        <li class=\"mmenuLiveVideos\">\\n                            <a href=\"/en/live/video\">\\n                                Shows<p>Watch live & on demand</p>\\n                            </a>\\n                        </li>\\n                        <li class=\"mmenuVideosLessons\">\\n                            <a href=\"/en/learn/videoseries\">\\n                                Video Series<p>Top players share their secrets through interactive lessons</p>\\n                            </a>\\n                        </li>\\n                    </ul>\\n                    <div class=\"liveEventstListContainer\">\\n                        <div class=\"mainMenuLiveEvents\"></div>\\n                    </div>\\n                </div>\\n                            </div>\\n        </li>\\n\\n        <!-- shop -->\\n        <li class=\"expandingMenu menuGroup menuGroupStore\">\\n            <a href=\"https://shop.chess24.com\" class=\"expandingMenuTitle\"><span>Shop</span></a>\\n            <input class=\"expandingMenuTrigger\" type=\"checkbox\" id=\"triggerMenuStore\" name=\"\">\\n            <label class=\"expandingMenuTriggerLabel\" for=\"triggerMenuStore\"><span>Shop</span></label>\\n            <div class=\"secondaryMenuWrapper\">\\n                <div class=\"flexWrapper\">\\n                    <ul>\\n                        <li class=\"mmenuVideosLessons\">\\n                            <a href=\"/en/learn/videoseries\">\\n                                Video Series<p>Top players share their secrets through interactive lessons</p>\\n                            </a>\\n                        </li>\\n                        <li class=\"mmenuEbooks\">\\n                            <a href=\"/en/learn/ebooks\">\\n                                eBooks<p>Browse expert analysis at leisure with our chess game viewer</p>\\n                            </a>\\n                        </li>\\n                    </ul>\\n                    <ul>\\n                        <li class=\"mmenuPremium\">\\n                            <a href=\"/en/premium\">\\n                                Premium <p>Get more features, get more chess</p>\\n                            </a>\\n                        </li>\\n                        <li class=\"mmenuVoucher\">\\n                            <a href=\"/en/voucher/buyVoucher\">\\n                                Vouchers <p>Purchase a voucher code</p>\\n                            </a>\\n                        </li>\\n                    </ul>\\n                    <ul>\\n                        <li class=\"mmenuMerchandise\">\\n                            <a href=\"https://shop.chess24.com\" target=\"_blank\">\\n                                Merchandise <p>chess24 T-shirts, hoodies, mugs and more!</p>\\n                            </a>\\n                        </li>\\n                        <li class=\"mmenuGifts\">\\n                            <a href=\"https://shop.chess24.com/collections/gifts\" target=\"_blank\">\\n                                Gifts <p>Perfect for a chess fan</p>\\n                            </a>\\n                        </li>\\n                    </ul>\\n                </div>\\n            </div>\\n        </li>\\n\\n         <li class=\"expandingMenu singleItem\">\\n\\t\\t\\t<a href=\"https://championschesstour.com/?utm_source=chess24&utm_medium=nav_bar\" class=\"menuTitle\" target=\"_blank\">\\n\\t\\t\\t\\t<span>\\n\\t\\t\\t\\t\\tTour\\t\\t\\t\\t</span>\\n\\t\\t\\t</a>\\n\\t\\t</li>\\n\\n         <li class=\"expandingMenu singleItem\">\\n\\t\\t\\t<a href=\"https://events.chess24.com/deals?ref=nav&utm_source=chesss24&utm_medium=top_nav\" class=\"menuTitle\" target=\"_blank\">\\n\\t\\t\\t\\t<span>\\n\\t\\t\\t\\t\\tDeals\\t\\t\\t\\t</span>\\n\\t\\t\\t</a>\\n\\t\\t</li>\\n        \\n    </ul>\\n                                    </nav>\\n                <!-- END main menu -->\\n\\n                <!-- user menu -->\\n                <nav class=\"userMenu\">\\n                                            <div class=\"expandingMenu\">\\n    <span class=\"loader userPic\">\\n        <img src=\"https://assets.chess24.com/assets/daca8a93e26446f1e7d52cedb56a5fe1/images/img/icon_searching_large.gif\"\\n             alt=\"loading...\">\\n        <span>Loading...</span>\\n    </span>\\n    <a class=\"userPic sMenuTrigger profile\" href=\"/en/login\">\\n        <img src=\"https://assets.chess24.com/assets/daca8a93e26446f1e7d52cedb56a5fe1/images/user/26x26_profile_default.png\" alt=\"\" />        <span class=\"name\">Log in / Register</span>\\n    </a>\\n    <div class=\"secondaryMenuWrapper\">\\n        <ul class=\"userMenuList\">\\n            <li class=\"linkLogin\">\\n                <a href=\"/en/login\" rel=\"nofollow\"\\n                   class=\"login-link\">Log in</a>\\n            </li>\\n            <li class=\"linkRegister\">\\n                <a href=\"/en/register\" rel=\"nofollow\"\\n                   class=\"register-link\">Register</a>\\n            </li>\\n\\n            <li class=\"linkProfile\">\\n                <a href=\"#\" class=\"profile\">My profile</a>\\n            </li>\\n\\n            <li class=\"linkSupport en\">\\n                <a href=\"https://cisha.zendesk.com/hc/en-us\" target=\"_new\">Support</a>\\n            </li>\\n            <li class=\"linkSupport de\">\\n                <a href=\"https://cisha.zendesk.com/hc/de\" target=\"_new\">Support</a>\\n            </li>\\n            <li class=\"linkSupport es\">\\n                <a href=\"/en/contact\">Support</a>\\n            </li>\\n            <li class=\"linkSupport fr\">\\n                <a href=\"/en/contact\">Support</a>\\n            </li>\\n            <li class=\"linkSupport no\">\\n                <a href=\"https://cisha.zendesk.com/hc/en-us\" target=\"_new\">Support</a>\\n            </li>\\n            <li class=\"linkSupport pt\">\\n                <a href=\"/en/contact\">Support</a>\\n            </li>\\n            <li class=\"linkSupport ru\">\\n                <a href=\"/en/contact\">Support</a>\\n            </li>\\n            <li class=\"linkSupport tr\">\\n                <a href=\"/en/contact\">Support</a>\\n            </li>\\n            <li class=\"linkSupport it\">\\n                <a href=\"/en/contact\">Support</a>\\n            </li>\\n            <li class=\"linkSupport zh\">\\n                <a href=\"/en/contact\">Support</a>\\n            </li>\\n\\n            <li class=\"linkVoucher\">\\n                <a href=\"/en/voucher\">Coupon</a>\\n            </li>\\n\\n            <li class=\"linkLab\" id=\"labSectionId\" style=\"display: none\">\\n                <a href=\"/lab\">Laboratory</a>\\n            </li>\\n            \\n            <li class=\"linkLogout logOff\">\\n                <a id=\"yt0\">Log out</a>            </li>\\n            <li class=\"linkPremium\">\\n                <a href=\"/en/premium?source=menu\">Go Premium</a>\\n            </li>\\n        </ul>\\n    </div>\\n</div>\\n                                    </nav>\\n                <!-- END user menu -->\\n\\n                <!-- language selector -->\\n                <nav class=\"langMenu\">\\n                    <div class=\"lang expandingMenu\">\\n                        \\n<div class=\"expandingMenu\">\\n    <span class=\"expandingMenuTitle\">\\n        <span>\\n            <span class=\"langMenuSelector\">English</span>\\n        </span>\\n    </span>\\n    <div class=\"secondaryMenuWrapper\">\\n        <ul class=\"langList\">\\n                            <li class=\"\">\\n                    <a class=\"language-change-link\" href=\"https://chess24.com/de/analyse\" data-lang=\"de\">\\n                        Deutsch                    </a>\\n                </li>\\n                                <li class=\"active\">\\n                    <a class=\"language-change-link\" href=\"https://chess24.com/en/analysis\" data-lang=\"en\">\\n                        English                    </a>\\n                </li>\\n                                <li class=\"\">\\n                    <a class=\"language-change-link\" href=\"https://chess24.com/es/analisis\" data-lang=\"es\">\\n                        Espa\\xc3\\xb1ol                    </a>\\n                </li>\\n                                <li class=\"\">\\n                    <a class=\"language-change-link\" href=\"https://chess24.com/fr/analysis\" data-lang=\"fr\">\\n                        Fran\\xc3\\xa7ais                    </a>\\n                </li>\\n                                <li class=\"\">\\n                    <a class=\"language-change-link\" href=\"https://chess24.com/it/analysis\" data-lang=\"it\">\\n                        Italiano                    </a>\\n                </li>\\n                                <li class=\"\">\\n                    <a class=\"language-change-link\" href=\"https://chess24.com/no/analysis\" data-lang=\"no\">\\n                        Norsk                    </a>\\n                </li>\\n                                <li class=\"\">\\n                    <a class=\"language-change-link\" href=\"https://chess24.com/pl/analysis\" data-lang=\"pl\">\\n                        Polski                    </a>\\n                </li>\\n                                <li class=\"\">\\n                    <a class=\"language-change-link\" href=\"https://chess24.com/pt/analysis\" data-lang=\"pt\">\\n                        Portugu\\xc3\\xaas                    </a>\\n                </li>\\n                                <li class=\"\">\\n                    <a class=\"language-change-link\" href=\"https://chess24.com/ru/analysis\" data-lang=\"ru\">\\n                        \\xd0\\xa0\\xd1\\x83\\xd1\\x81\\xd1\\x81\\xd0\\xba\\xd0\\xb8\\xd0\\xb9                    </a>\\n                </li>\\n                                <li class=\"\">\\n                    <a class=\"language-change-link\" href=\"https://chess24.com/tr/analysis\" data-lang=\"tr\">\\n                        T\\xc3\\xbcrk\\xc3\\xa7e                    </a>\\n                </li>\\n                                <li class=\"\">\\n                    <a class=\"language-change-link\" href=\"https://chess24.com/zh/analysis\" data-lang=\"zh\">\\n                        \\xe4\\xb8\\xad\\xe6\\x96\\x87                    </a>\\n                </li>\\n                        </ul>\\n    </div>\\n</div>\\n                    </div>\\n                </nav>\\n                <!-- END language selector -->\\n\\n            </div>\\n            \\n            \\n            \\n        </div>\\n        <!-- END nav container -->\\n        \\n        <!-- search -->\\n                <div class=\"siteSearch\" style=\"display: inline-block;\"><div id=\"search-bar\">\\n\\t<div>\\n\\t    <form action=\"/en/search\" method=\"get\">        <input type=\"text\" value=\"\" name=\"q\" id=\"q\" />        </form>    </div>\\n    <a></a>\\n</div>\\n</div>\\n                <!-- END search -->\\n    \\n    </div>\\n\\n</header>\\n<!-- END header -->\\n\\n        <div class=\"flashMessages\"></div>\\n\\n        <!-- page content -->\\n        <div class=\"pageContent\">\\n\\n\\n            <!-- user stats -->\\n\\n            <!-- page wrap -->\\n            <div class=\"pageWrap\">\\n\\n                \\n<div\\n    class=\"ad3rdParty banner970x90 banner bannerSnigel\" \\n    style=\"width: 970px; height: 90px;\">\\n    <!-- Snigel Web Services Banner Header_Leaderboard (div-gpt-ad-1530873037363-0) -->\\n  <div\\n    id=\\'div-gpt-ad-1530873037363-0\\'\\n    data-snigel-name=\\'Header_Leaderboard\\'>\\n    <div class=\"default-ad\">\\n            </div>\\n  </div>\\n            <span class=\\'bt-uid-tg\\' data-uid=\\'5bd1cf2326-158\\' style=\\'display: none !important\\'></span> \\n    </div><!-- breadcrumb -->\\n<div class=\"pageBreadcrumb hideOnTab\">\\n\\t<nav class=\"clearfix\">\\n\\t\\t    </nav>\\n</div>\\n<!-- END breadcrumb --><div class=\\'conversionPremiumWidget\\'></div><div class=\\'conversionBecomeMemberWidget\\'></div><!-- sidebar -->\\n<div class=\"sidebarWrapper\">\\n\\t<aside class=\"pageSidebar hideOnPhone\">\\n\\n\\t\\t<!-- sidebar menu -->\\n\\t\\t<nav class=\"sidebarMenu\">\\n\\t\\t\\t<ul>\\n\\n\\t\\t\\t\\t<!-- newsfeed content -->\\n\\t\\t\\t\\t<li class=\"notifications\">\\n\\t<a>Notifications<span class=\"notiBox\" style=\"display:none;\">\\n        </span></a>\\n    <div class=\"sidebarMenuContent sidebarContentNotifications\">\\n        <div class=\"closeThis\"></div>\\n        <a class=\"markAllAsRead\">mark all as read</a>\\n        <h4>Notifications</h4>\\n\\n        <!-- notifications list -->\\n        <section>\\n            <div class=\"nativeScroll deltaScroll\">\\n                <div class=\"nativeScrollInsider\">\\n                    <ul class=\"userListing\"></ul>\\n                    <div class=\"message\"></div>\\n                </div>\\n            </div>\\n        </section>\\n        <!-- notifications list -->\\n\\n    </div>\\n</li>\\n\\n\\n                <!-- challenges content -->\\n                <div class=\"sidebarChallenge\"></div>\\n\\n                <!-- friends content -->\\n                <div class=\"sidebarMyFriends\"></div>\\n\\n                <!-- friends content -->\\n                <div class=\"sidebarPlaynow\"></div>\\n\\n            </ul>\\n        </nav>\\n        <!-- END sidebar menu -->\\n\\n        <div class=\"sidebarContentContainer\">\\n\\n            \\n<div\\n    class=\"ad3rdParty banner160x600 banner bannerSnigel\" \\n    style=\"width: 160px; height: 600px;\">\\n    <!-- Snigel Web Services Banner Wide_Skyscraper (div-gpt-ad-1530872846359-0) -->\\n  <div\\n    id=\\'div-gpt-ad-1530872846359-0\\'\\n    data-snigel-name=\\'Wide_Skyscraper\\'>\\n    <div class=\"default-ad\">\\n            </div>\\n  </div>\\n            <span class=\\'bt-uid-tg\\' data-uid=\\'5bd1cf2cc9-158\\' style=\\'display: none !important\\'></span> \\n    </div>\\n            <!-- conversion widget -->\\n            <div class=\"sidebarConversionWidget\"></div>\\n\\n            <!-- watch live widget -->\\n            <div class=\"panelWidget watchLive\">\\n                <h4>Watch Live</h4>\\n                <div class=\"liveEventstListContainer \">\\n                    <div class=\"sidebarLiveEvents\"></div>\\n                </div>\\n            </div>\\n\\n            <!-- the twitter widget -->\\n            <div class=\"panelWidget twitter conversionBox\">\\n    <h4></h4>\\n    <div class=\"twitterWidget\">\\n\\t<a class=\"twitter-timeline\" href=\"https://twitter.com/chess24com?ref_src=twsrc%5Etfw\">Tweets by chess24com</a>\\n</div></div>\\n            \\n            <div class=\"sidebarAdmin\"></div>\\n        </div>\\n\\n    </aside>\\n</div>\\n<!-- END sidebar -->                <!-- content wrap -->\\n                <div class=\"contentWrap\">\\n                                            <div class=\"stickyQuickies\">\\n                            <div class=\"stickyQuicky globalSharing\">\\n\\t<ul>\\n\\t\\t<li class=\"quickyTitle\"><label>Share</label></li>\\n        <li class=\"quickyFacebook\"><a class=\"facebook\"></a></li>\\n        <li class=\"quickyTwitter\"><a class=\"twitter\"></a></li>\\n        <li class=\"quickyEmbed\"><a class=\"embed\"></a></li>\\n        <li class=\"quickyComments\"><a href=\"#comments\" class=\"comments\"></a><span class=\"commentsCount\"></span></li>\\n    </ul>\\n</div>                            <div class=\\'dashboardPlayShortcuts\\'></div>\\n                        </div>\\n                    \\n                    <div id=\"leftSidebar\"><div class=\"sticky\">\\n<div\\n    class=\"ad3rdParty banner160x600 banner bannerSnigel\" \\n    style=\"width: 160px; height: 600px;\">\\n    <!-- Snigel Web Services Banner Sidebar_left (snhb-Sidebar_left-0) -->\\n  <div\\n    id=\\'snhb-Sidebar_left-0\\'\\n    data-snigel-name=\\'Sidebar_left\\'>\\n    <div class=\"default-ad\">\\n            </div>\\n  </div>\\n    </div></div></div>\\n                    <div class=\"contentContainer\">\\n                        <div id=\"chessDatabaseIndexId\" data=\"\"></div>\\n<div id=\"chessDatabaseIndexInitObjectId\" data-import-pgn=\\'\\' data=\\'[]\\'></div>\\n\\n<div class=\"contentContainer\">\\n\\t<div class=\"contentContainerInsider showColorHeader\">\\n\\t\\t\\n\\t\\t<div class=\"colorHeader colorLearn nmb custom mmenuChessDatabase colorHeaderAnalysis\">\\n\\t\\t\\t<div class=\"colorHeaderIcon\"></div>\\n\\t\\t\\t<h2 class=\"title\">Analysis</h2>\\n\\t\\t\\t<h2 class=\"subTitle\"><span class=\"analysisName\" data-placeholder=\"Click to enter name\"></span></h2>\\n\\t\\t\\t<div class=\"rightItem\">\\n\\t\\t\\t\\t\\t\\t\\t\\t<a class=\"cBtnFlexi cBtnWithShortcut showIcon iconLearnMore\" href=\"/en/read/news/the-future-of-chess-and-technology-in-the-cloud\" target=\"_blank\">\\n\\t\\t\\t\\t\\t\\t\\t\\t\\t<span>Learn more</span>\\n\\t\\t\\t\\t</a>\\n\\t\\t\\t</div>\\n\\t\\t</div>\\n\\t\\t\\n\\t\\t<div class=\"databaseSessionsMenuWrapper\">\\n\\t\\t\\t<ul class=\"databaseSessionsMenu\">\\n\\t\\t\\t\\t<li><a class=\"cIcon cIconAnalysis newSession disabled\" data-url=\"/en/analysis\">New session</a></li>\\n\\t\\t\\t\\t<li><a class=\"cIcon cIconPgn saveSession\">Save session</a></li>\\n\\t\\t\\t\\t<li><a class=\"cIcon cIconGamesList loadSessions\">My analysis</a></li>\\n\\t\\t\\t\\t<li class=\"cTooltipLeft\">\\n\\t\\t\\t\\t\\t<span>\\n\\t\\t\\t\\t\\t\\t<a class=\"cIcon cIconCoaching start\" data-url=\"/en/analysis/{{username}}/{{uuid}}\">\\n\\t\\t\\t\\t\\t\\t\\tStart Broadcast\\t\\t\\t\\t\\t\\t</a>\\n\\t\\t\\t\\t\\t\\t<a class=\"cIcon cIconCoaching stop\" style=\"display: none;\">\\n\\t\\t\\t\\t\\t\\t\\tStop Broadcast\\t\\t\\t\\t\\t\\t</a>\\n\\t\\t\\t\\t\\t</span>\\n\\t\\t\\t\\t</li>\\n\\t\\t\\t</ul>\\n\\t\\t</div>\\n\\n\\t\\t<div class=\"chessDB\">\\n\\n\\t\\t\\t\\n\\t\\t\\t<div class=\"coachingViewerSettings\">\\n\\t\\t\\t\\t<span class=\"ownerInfo\"></span> -\\n\\t\\t\\t\\t<a class=\"stopViewing\">stop watching</a>\\n\\t\\t\\t</div>\\n\\n\\t\\t\\t<div class=\"chessGame broadcastChessGame withEval\">\\n\\n\\t\\t\\t\\t<div class=\"toolbar\">\\n\\t\\t\\t\\t\\t<div class=\"analysisToolbar\">\\n\\t<ul class=\"setupControls\">\\n\\t\\t<li data-tooltip=\"Set up or add game\" class=\"cTooltipLeft\">\\n            <b class=\"cTooltipBox position-right onClick onClickPersistent setupAndImport burgerMenu\">\\n                <a class=\"cIcon cIconAnalysisSetup\"></a>\\n                    <span class=\"cTooltipBoxContainer\">\\n                        <ul>\\n                            <li class=\"setupPosition\"><a class=\"cIcon cIconPosition\">Set up position</a></li>\\n                            <li class=\"importPgn\"><a class=\"cIcon cIconMultigame\">Import PGN</a></li>\\n                            <li class=\"pastePgn\"><a class=\"cIcon cIconMultigamePaste\">Paste PGN</a></li>\\n                            <li class=\"importGame\"><a class=\"cIcon cIconPawn\">Import Playzone game</a></li>\\n                        </ul>\\n                    </span>\\n            </b>\\n        </li>\\n    </ul>\\n    <ul class=\"coachingControls startCoaching\">\\n        <li data-tooltip=\"Share\" class=\"cTooltipLeft\">\\n            <span><a class=\"cIcon cIconShare shareSession disabled\"></a></span>\\n        </li>\\n    </ul>\\n    <ul class=\"coachingControls coachingSettings\">\\n        <li data-tooltip=\"Coaching options\" class=\"cTooltipLeft\">\\n            <span>\\n                <b class=\"cTooltipBox position-right onClick onClickPersistent coaching burgerMenu\">\\n                    <a class=\"cIcon cIconCoachingActive\"></a>\\n                </b>\\n            </span>\\n        </li>\\n    </ul>\\n    <hr/>\\n    <ul>\\n        <li data-tooltip=\"Move mode\" class=\"cTooltipLeft active\">\\n            <a class=\"cIcon cIconMoveMode draw\" data-mode=\"off\"></a>\\n        </li>\\n    </ul>\\n    <ul>\\n        <li data-tooltip=\"Red highlights\" class=\"cTooltipLeft\">\\n            <a class=\"cIcon cIconHighlightRed draw\" data-mode=\"red\"></a>\\n        </li>\\n        <li data-tooltip=\"Blue highlights\" class=\"cTooltipLeft\">\\n            <a class=\"cIcon cIconHighlightBlue draw\" data-mode=\"blue\"></a>\\n        </li>\\n        <li data-tooltip=\"Green highlights\" class=\"cTooltipLeft\">\\n            <a class=\"cIcon cIconHighlightGreen draw\" data-mode=\"green\"></a>\\n        </li>\\n        <li data-tooltip=\"Yellow highlights\" class=\"cTooltipLeft\">\\n            <a class=\"cIcon cIconHighlightYellow draw\" data-mode=\"yellow\"></a>\\n        </li>\\n    </ul>\\n    <ul>\\n        <li data-tooltip=\"Highlights eraser\" class=\"cTooltipLeft\">\\n            <a class=\"cIcon cIconEraser draw\" data-mode=\"erase\"></a>\\n        </li>\\n        <li data-tooltip=\"Remove all highlights\" class=\"cTooltipLeft\">\\n            <a class=\"cIcon cIconTrashcan draw\" data-mode=\"clear\"></a>\\n        </li>\\n    </ul>\\n    <hr/>\\n    <ul>\\n        <li data-tooltip=\"Promote move\" class=\"cTooltipLeft promoteMove\">\\n            <a class=\"cIcon cIconPawnMove\"></a>\\n        </li>\\n        <li data-tooltip=\"Delete move\" class=\"cTooltipLeft deleteMove\">\\n            <a class=\"cIcon cIconPawnRemove\"></a>\\n        </li>\\n        <li data-tooltip=\"Insert/replace mode\" class=\"cTooltipLeft replaceMove\">\\n            <a class=\"cIcon cIconReload\"></a>\\n        </li>\\n    </ul>\\n    <!--ul>\\n        <li data-tooltip=\"Help\" class=\"cTooltipLeft\">\\n            <a class=\"cIcon cIconHelp\"></a>\\n        </li>\\n    </ul-->\\n</div>\\n\\t\\t\\t\\t</div>\\n\\n\\t\\t\\t\\t<!-- left column -->\\n\\t\\t\\t\\t<div class=\"left\">\\n\\n\\t\\t\\t\\t\\t<!-- chessBoardInsider -->\\n\\t\\t\\t\\t\\t<div class=\"chessBoardInsider\">\\n\\n\\t\\t\\t\\t\\t\\t<!-- chessBoard left area -->\\n\\t\\t\\t\\t\\t\\t<div class=\"left boardAreaLeft\">\\n\\n\\t\\t\\t\\t\\t\\t\\t<!-- evaluation indicator tooltip -->\\n\\t\\t\\t\\t\\t\\t\\t<div class=\"evalindicatorTooltip\">\\n\\t\\t\\t\\t\\t\\t\\t\\t<span class=\"cTooltipRight\">&nbsp;&nbsp;&nbsp;</span>\\n\\t\\t\\t\\t\\t\\t\\t</div>\\n\\t\\t\\t\\t\\t\\t\\t<!-- END evaluation indicator tooltip -->\\n\\n\\t\\t\\t\\t\\t\\t\\t<div class=\"evalIndicator\">\\n\\t\\t\\t\\t\\t\\t\\t\\t<div class=\"scale\">\\n\\t\\t\\t\\t\\t\\t\\t\\t\\t<span class=\"level\" style=\"height: 50%;\"></span>\\n\\t\\t\\t\\t\\t\\t\\t\\t\\t<span class=\"inactive\"></span>\\n\\t\\t\\t\\t\\t\\t\\t\\t\\t<span class=\"loader\"></span>\\n\\t\\t\\t\\t\\t\\t\\t\\t</div>\\n\\t\\t\\t\\t\\t\\t\\t</div>\\n\\n\\t\\t\\t\\t\\t\\t</div>\\n\\t\\t\\t\\t\\t\\t<!-- END chessBoard left area -->\\n\\n\\t\\t\\t\\t\\t\\t<!-- chessBoard -->\\n\\t\\t\\t\\t\\t\\t<div class=\"chessBoard\"></div>\\n\\t\\t\\t\\t\\t\\t<!-- END chessBoard -->\\n\\n\\t\\t\\t\\t\\t</div>\\n\\t\\t\\t\\t\\t<!-- END chessBoardInsider -->\\n\\n\\t\\t\\t\\t\\t<!-- chessBoard bottom area -->\\n\\t\\t\\t\\t\\t<div class=\"bottom\">\\n\\t\\t\\t\\t\\t\\t<div class=\"gameControlsContainer\">\\n\\t\\t\\t\\t\\t\\t\\t<b class=\"cTooltipBox position-top onClick burgerMenu\">\\n\\t\\t\\t\\t\\t\\t\\t\\t<a class=\"cBtnRound cIcon cIconBurger\"></a>\\n\\t\\t\\t\\t\\t\\t\\t\\t<span class=\"cTooltipBoxContainer\">\\n\\t\\t\\t\\t\\t\\t\\t\\t\\t<ul>\\n\\t\\t\\t\\t\\t\\t\\t\\t\\t\\t<li><a class=\"flipBoard cIcon cIconFlipBoard\" data-pattern-icon=\"true\"><span>Flip board</span></a></li>\\n\\t\\t\\t\\t\\t\\t\\t\\t\\t\\t<li><a class=\"btnBiggerBoard cIcon cIconFullscreenOn\"><span>Board size</span></a></li>\\n\\t\\t\\t\\t\\t\\t\\t\\t\\t\\t<li><a class=\"playPosition cIcon cIconPosition\" data-pattern-icon=\"true\"><span>Play this position</span></a></li>\\n\\t\\t\\t\\t\\t\\t\\t\\t\\t\\t<li><a class=\"settings cIcon cIconSettings\" data-pattern-icon=\"true\"><span>Settings</span></a></li>\\n\\t\\t\\t\\t\\t\\t\\t\\t\\t\\t<li><a class=\"downloadPgn cIcon cIconPgn\" data-pattern-icon=\"true\"><span>Download PGN</span></a></li>\\n\\t\\t\\t\\t\\t\\t\\t\\t\\t\\t<li><a class=\"btnAutoPlay cIcon cIconSoundPlay\">Autoplay</a></li>\\n\\t\\t\\t\\t\\t\\t\\t\\t\\t</ul>\\n\\t\\t\\t\\t\\t\\t\\t\\t</span>\\n\\t\\t\\t\\t\\t\\t\\t</b>\\n\\t\\t\\t\\t\\t\\t\\t<div class=\"cursor cursorView\"></div>\\n\\t\\t\\t\\t\\t\\t</div>\\n\\t\\t\\t\\t\\t</div>\\n\\t\\t\\t\\t\\t<!-- END chessBoard bottom area -->\\n\\n\\t\\t\\t\\t</div>\\n\\t\\t\\t\\t<!-- END left column -->\\n\\n\\t\\t\\t\\t<!-- right column -->\\n\\t\\t\\t\\t<div class=\"right\">\\n\\n\\t\\t\\t\\t\\t<div class=\"radioTabs notationTableMoveTreeSwitch\">\\n\\n\\t\\t\\t\\t\\t\\t<div class=\"tabContainer tabChat\">\\n\\t\\t\\t\\t\\t\\t\\t<input type=\"radio\" id=\"TabChat\" name=\"chessDBtab\" checked>\\n\\t\\t\\t\\t\\t\\t\\t<label for=\"TabChat\">\\n\\t\\t\\t\\t\\t\\t\\t\\t<span class=\"cIcon cIconChat\">Chat</span></label>\\n\\t\\t\\t\\t\\t\\t\\t<div class=\"tabContent chatContainer\"></div>\\n\\t\\t\\t\\t\\t\\t</div>\\n\\n\\t\\t\\t\\t\\t\\t<div class=\"tabContainer tabTree\">\\n\\t\\t\\t\\t\\t\\t\\t<input type=\"radio\" id=\"TabTree\" name=\"chessDBtab\">\\n\\t\\t\\t\\t\\t\\t\\t<label for=\"TabTree\"><span class=\"cIcon cIconTree\">Opening explorer</span></label>\\n\\t\\t\\t\\t\\t\\t\\t<div class=\"tabContent moveTree gridView scrollable\"></div>\\n\\t\\t\\t\\t\\t\\t</div>\\n\\n\\t\\t\\t\\t\\t\\t<div class=\"tabContainer tabMeta\">\\n\\t\\t\\t\\t\\t\\t\\t<input type=\"radio\" id=\"TabMeta\" name=\"chessDBtab\">\\n\\t\\t\\t\\t\\t\\t\\t<label for=\"TabMeta\"><span class=\"cIcon cIconInfo\">Info</span></label>\\n\\t\\t\\t\\t\\t\\t\\t<div class=\"tabContent scrollable nativeScroll\"\">\\n\\t\\t\\t\\t\\t\\t\\t\\t<div class=\"nativeScrollInsider gameMeta\"></div>\\n\\t\\t\\t\\t\\t\\t\\t</div>\\n\\t\\t\\t\\t\\t\\t</div>\\n\\n\\t\\t\\t\\t\\t\\t<div class=\"tabContainer tabNotation\">\\n\\t\\t\\t\\t\\t\\t\\t<input type=\"radio\" id=\"TabNotaion\" name=\"chessDBtab\" checked>\\n\\t\\t\\t\\t\\t\\t\\t<label for=\"TabNotaion\">\\n\\t\\t\\t\\t\\t\\t\\t\\t<span class=\"cIcon cIconNotationTable\">Notation</span></label>\\n\\t\\t\\t\\t\\t\\t\\t<div class=\"tabContent notationTable\"></div>\\n\\t\\t\\t\\t\\t\\t</div>\\n\\n\\t\\t\\t\\t\\t</div>\\n\\n\\t\\t\\t\\t</div>\\n\\t\\t\\t\\t<!-- END right column -->\\n\\n\\t\\t\\t</div>\\n\\n\\t\\t\\t<!-- engine lines -->\\n\\t\\t\\t<div class=\"engineLines gridView\"></div>\\n\\t\\t\\t<!-- END engine lines -->\\n\\n\\t\\t\\t<div class=\"gameTabs customTabs skinDefault skinDefaultSimple fullWidth\">\\n\\t\\t\\t\\t<section class=\"tabDatabaseGames\" id=\"tabDatabaseGames\" data-tab-title=\"Database\" data-tab-class=\"tabDatabaseGames\">\\n\\t\\t\\t\\t\\t<div class=\"databaseGamesList\"></div>\\n\\t\\t\\t\\t</section>\\n\\t\\t\\t\\t<section class=\"tabDatabaseMoves\" id=\"tabDatabaseMoves\" data-tab-title=\"Opening tree\" data-tab-class=\"tabDatabaseMoves\">\\n\\t\\t\\t\\t\\t<div class=\"databaseMovesWithScroller\"></div>\\n\\t\\t\\t\\t</section>\\n\\t\\t\\t\\t<section class=\"tabGamesEngine\" id=\"tabGamesEngine\" data-tab-title=\"Analysis\" data-tab-class=\"tabGamesEngine\"></section>\\n\\t\\t\\t\\t\\t\\t\\t</div>\\n\\n\\t\\t</div>\\n\\n\\t\\t\\n\\t</div>\\n</div>\\n\\n                    </div>\\n                </div>\\n                <!-- END content wrap -->\\n                <div class=\"clearfix\"></div>\\n\\n            </div>\\n            <!-- END page wrap -->\\n\\n        </div>\\n        <!-- END page content -->\\n\\n                    <div class=\"popupInsider loginRegistrationPopup\" data-failures=\"0\">\\n                \\n<div class=\"userRegistrationLogin\">\\n\\n\\t<header>\\n\\t\\t<a class=\"registration active\" href=\"/en/register\"><strong>Register</strong></a>\\n\\t\\t<a class=\"login\" href=\"/en/login\"><strong>Log In</strong></a>\\n\\t</header>\\n\\n\\t<div class=\"tabContent registration active\">\\n\\t\\t<!-- registration -->\\n\\n\\t\\t<form action=\"/en/facebook\" method=\"post\">\\n<input type=\"hidden\" value=\"578bc453fa1e1adaaa6b3d9101b90f91990e8e5c\" name=\"csrf\" />\\t\\t<input type=\"hidden\" value=\"connect\" name=\"action\" id=\"action\" />\\t\\t<input type=\"hidden\" value=\"/en\" name=\"returnUrl\" id=\"returnUrl\" />        <input type=\"submit\" class=\"facebookLoginInput\" value=\"Log in with Facebook\">\\n\\t\\t</form>\\n\\t\\t<div class=\"splitLine\"><span>or</span></div>\\n\\t\\t<h3>Create your free account now to get started!</h3>\\n\\n\\t\\t<div>\\n\\t\\t\\t\\n\\t\\t\\t<form class=\"cPattern\" data-validatemethod=\"clientvalidate\" id=\"register-user-form\" action=\"/en/register\" method=\"post\">\\n<input type=\"hidden\" value=\"578bc453fa1e1adaaa6b3d9101b90f91990e8e5c\" name=\"csrf\" />\\t\\t\\t\\n\\t\\t\\t\\t\\t\\t\\n\\t\\t\\t\\t\\t\\t\\n\\t\\t\\t<input type=\"hidden\" name=\"returnUrl\" value=\"/en\" />\\n\\t\\t\\t<p><input placeholder=\"Email\" data-error-required=\"Please enter your email address\" data-error-email=\"Please enter a valid email address\" data-error-unique=\"This email address is already in use\" tabindex=\"1\" class=\"validate[safe,email[skipOnError=1],UserEmailValidator,required,unique] cInputText\" name=\"RegisterForm[email]\" id=\"RegisterForm_email\" type=\"text\" /></p>\\n\\t\\t\\t<p><input placeholder=\"Username\" data-error-required=\"Please provide your username.\" data-error-nick=\"Please use only letters (A-Z) and numbers (0-9) for your username.\" data-error-length=\"Username must be between 3 and 32 characters\" data-error-unique=\"This username is already in use.\" tabindex=\"2\" class=\"validate[safe,required,length[min=3,max=32,skipOnError=1],NickValidator] cInputText\" name=\"RegisterForm[nick]\" id=\"RegisterForm_nick\" type=\"text\" /></p>\\n\\t\\t\\t<p><input placeholder=\"Password\" data-error-required=\"Please provide your password\" data-error-length=\"Password is too short (minimum is 6 characters).\" tabindex=\"3\" class=\"validate[safe,required,length[min=6,max=128,allowEmpty=,skipOnError=1]] cInputText\" name=\"RegisterForm[password]\" id=\"RegisterForm_password\" type=\"password\" /></p>\\n\\t\\t\\t            <p><input class=\"honeypot validate[safe] cInputText\" name=\"RegisterForm[website]\" id=\"RegisterForm_website\" type=\"text\" /></p>\\n\\n\\t\\t\\t<p>By clicking \\xe2\\x80\\x98Register\\xe2\\x80\\x99 you agree to our <a class=\"link link--blue\" href=\"/en/static/terms-and-conditions\">terms and conditions</a> and confirm you have read our <a class=\"link link--blue\" href=\"/en/static/privacy-policy\">privacy policy</a>, including the section on the use of <a class=\"link link--blue\" href=\"/en/static/cookie-policy\">cookies</a>.</p>\\n\\n\\t\\t\\t<p><input tabindex=\"5\" class=\"cBtnFlexi cBtnBlue\" type=\"submit\" name=\"yt1\" value=\"Register your account\" /></p>\\n\\t\\t\\t\\n\\t\\t\\t</form>\\t\\t</div>\\n\\t</div>\\n\\t<div class=\"tabContent login\">\\n\\t\\t<!-- login -->\\n\\n\\t\\t<form action=\"/en/facebook\" method=\"post\">\\n<input type=\"hidden\" value=\"578bc453fa1e1adaaa6b3d9101b90f91990e8e5c\" name=\"csrf\" />\\t\\t<input type=\"hidden\" name=\"action\" value=\"connect\">\\n\\t\\t<input type=\"hidden\" name=\"returnUrl\" value=\"/en\">\\n\\t\\t<input type=\"submit\" class=\"facebookLoginInput\" value=\"Log in with Facebook\">\\n\\t\\t</form>\\n\\t\\t<div class=\"splitLine\"><span>or</span></div>\\n\\t\\t<h3>Do you have an account? Let the chess games begin!</h3>\\n\\n\\t\\t<div>\\n\\t\\t\\t\\n\\t\\t\\t<form class=\"cPattern\" data-validatemethod=\"clientvalidate\" id=\"login-form\" action=\"/en/login\" method=\"post\">\\n<input type=\"hidden\" value=\"578bc453fa1e1adaaa6b3d9101b90f91990e8e5c\" name=\"csrf\" />\\t\\t\\t<input type=\"hidden\" name=\"returnUrl\" value=\"/en\" />\\n\\t\\t\\t<p><input placeholder=\"Username or email address\" tabindex=\"1\" data-e2e-key=\"email-or-username\" class=\"validate[required] cInputText\" name=\"LoginForm[emailOrUsername]\" id=\"LoginForm_emailOrUsername\" type=\"text\" /></p>\\n\\t\\t\\t<p><input placeholder=\"Password\" tabindex=\"2\" data-e2e-key=\"password\" class=\"validate[required,authenticate[skipOnError=1]] cInputText\" name=\"LoginForm[password]\" id=\"LoginForm_password\" type=\"password\" /></p>\\n\\t\\t\\t\\t\\t\\t\\n\\t\\t\\t<div style=\"margin-top:10px;text-align:left;\"><input id=\"ytLoginForm_rememberMe\" type=\"hidden\" value=\"0\" name=\"LoginForm[rememberMe]\" /><input value=\"1\" class=\"validate[boolean] cPattern\" name=\"LoginForm[rememberMe]\" id=\"LoginForm_rememberMe\" checked=\"checked\" type=\"checkbox\" /><span>Keep me logged in</span></div><p>Forgotten your password? No problem! You can <a href=\"/en/lost-password\" class=\"lost-password-link\">reset your password here</a></p><p><input class=\"submit cBtnFlexi cBtnBlue\" type=\"submit\" name=\"yt2\" value=\"Login\" /></p></form>\\t\\t</div>\\n\\t</div>\\n\\t<div class=\"tabContent lost-password\">\\n\\t\\t<h3>Lost your password? We\\'ll send you a link to reset it!</h3>\\n\\t\\t<div>\\n\\t\\t\\t<form class=\"cPattern\" data-validatemethod=\"clientvalidate\" id=\"lost-password-form\" action=\"/en/lost-password\" method=\"post\">\\n<input type=\"hidden\" value=\"578bc453fa1e1adaaa6b3d9101b90f91990e8e5c\" name=\"csrf\" />\\t\\t\\t<p><input placeholder=\"Email address\" data-error-required=\"Please enter your email address\" data-error-email=\"Please enter a valid email address\" tabindex=\"1\" class=\"validate[email[skipOnError=1],required] cInputText\" name=\"LostPasswordForm[email]\" id=\"LostPasswordForm_email\" type=\"text\" /></p>\\t\\n\\t\\t\\t\\t\\t\\t<p>After submitting this form you\\'ll receive an email with the reset password link. If you still can\\'t access your account please contact our <a href=\"/en/contact\">customer service</a>.</p>\\n\\t\\t\\t<p><input class=\"submit cBtnFlexi cBtnBlue\" type=\"submit\" name=\"yt3\" value=\"Send\" /></p>\\n\\n\\t\\t\\t</form>\\t\\t</div>\\n\\t</div>\\n</div>\\n            </div>\\n            \\n\\n        <div class=\"popupInsider dataConsentPopup\">\\n            \\n<div class=\"userDataConsent\">\\n    <header>\\n        <strong>Which features would you like to enable?</strong>        \\n    </header>\\n\\n    <div class=\"tabContent\">\\n        \\n        <p>We respect your privacy and data protection guidelines. Some components of our site require cookies or local storage that handles personal information.</p>\\n    \\n        <p><a id=\"data-consent-show-options-link\">Show Options</a></p>\\n        <p><a id=\"data-consent-hide-options-link\">Hide Options</a></p>\\n\\n        <div id=\"data-consent-form-container\">\\n            <form class=\"cPattern\" data-validatemethod=\"clientvalidate\" id=\"data-consent-form\" action=\"/en/analysis\" method=\"post\">\\n<input type=\"hidden\" value=\"578bc453fa1e1adaaa6b3d9101b90f91990e8e5c\" name=\"csrf\" />\\n            \\n            <dl>\\n                <dt>\\n                    <div><input id=\"ytDataConsentForm_hasNecessaryConsent\" type=\"hidden\" value=\"0\" name=\"DataConsentForm[hasNecessaryConsent]\" /><input disabled=\"disabled\" data-setting=\"hasNecessaryConsent\" value=\"1\" class=\"validate[safe] cPattern switchCheck\" name=\"DataConsentForm[hasNecessaryConsent]\" id=\"DataConsentForm_hasNecessaryConsent\" checked=\"checked\" type=\"checkbox\" /></div>\\n                </dt>\\n                <dd>\\n                    <h5>Necessary</h5>\\n                    General <strong>page access</strong>, using the <strong>Playzone</strong> and <strong>broadcast</strong> features.                </dd>\\n            </dl>\\n\\n            <dl>\\n                <dt>\\n                    <div><input id=\"ytDataConsentForm_hasSettingsConsent\" type=\"hidden\" value=\"0\" name=\"DataConsentForm[hasSettingsConsent]\" /><input tabindex=\"1\" data-setting=\"hasSettingsConsent\" value=\"1\" class=\"validate[safe] cPattern switchCheck\" name=\"DataConsentForm[hasSettingsConsent]\" id=\"DataConsentForm_hasSettingsConsent\" type=\"checkbox\" /></div>\\n                </dt>\\n                <dd>\\n                    <h5>Settings</h5>\\n                    Remember your <strong>personal settings</strong> including language, chessboard theme and other options.                </dd>\\n            </dl>\\n\\n            <dl>\\n                <dt>\\n                    <div><input id=\"ytDataConsentForm_hasSocialMediaConsent\" type=\"hidden\" value=\"0\" name=\"DataConsentForm[hasSocialMediaConsent]\" /><input tabindex=\"2\" data-setting=\"hasSocialMediaConsent\" value=\"1\" class=\"validate[safe] cPattern switchCheck\" name=\"DataConsentForm[hasSocialMediaConsent]\" id=\"DataConsentForm_hasSocialMediaConsent\" type=\"checkbox\" /></div>\\n                </dt>\\n                <dd>\\n                    <h5>Social Media</h5>\\n                    See social media <strong>feeds and share</strong> content you like.                </dd>\\n            </dl>\\n\\n            <dl>\\n                <dt>\\n                    <div><input id=\"ytDataConsentForm_hasPerformanceConsent\" type=\"hidden\" value=\"0\" name=\"DataConsentForm[hasPerformanceConsent]\" /><input tabindex=\"3\" data-setting=\"hasPerformanceConsent\" value=\"1\" class=\"validate[safe] cPattern switchCheck\" name=\"DataConsentForm[hasPerformanceConsent]\" id=\"DataConsentForm_hasPerformanceConsent\" type=\"checkbox\" /></div>\\n                </dt>\\n                <dd>\\n                    <h5>Statistics</h5>\\n                    Usage of <strong>statistics</strong> that help us <strong>improve parts of our site</strong> relevant to you.                </dd>\\n            </dl>\\n\\n            <dl>\\n                <dt>\\n                    <div><input id=\"ytDataConsentForm_hasMarketingConsent\" type=\"hidden\" value=\"0\" name=\"DataConsentForm[hasMarketingConsent]\" /><input tabindex=\"4\" data-setting=\"hasMarketingConsent\" value=\"1\" class=\"validate[safe] cPattern switchCheck\" name=\"DataConsentForm[hasMarketingConsent]\" id=\"DataConsentForm_hasMarketingConsent\" type=\"checkbox\" /></div>\\n                </dt>\\n                <dd>\\n                    <h5>Marketing</h5>\\n                    Personalized advertisements that enable us to <strong>offer free services</strong>.                </dd>\\n            </dl>\\n                \\n            \\n            </form>\\n            <p><a id=\"data-consent-details-link\">Learn more about the details...</a></p>\\n        </div>\\n\\n        <div id=\"data-consent-details\">\\n            <div id=\"data-consent-details-content\">\\n                <p>\\n                    Using chess24 requires the storage of some personal data, as set out below. You can find additional information in our Cookie Policy, Privacy Policy, Disclaimer and Terms of Website Use. Please note that your data settings can be changed at any time by clicking on the <strong>Data Settings</strong> link in the footer at the bottom of our website.                </p>\\n                <h4>Necessary Data</h4>\\n                <div>\\n                    Some data is technically necessary to be able to visit the page at all. A so-called cookie stores identifiers that make it possible to respond to your individual requests. It contains a session ID - a unique, anonymous user ID combined with an authentication identifier (user_data). A security identifier (csrf) is also stored to prevent a particular type of online attack. All of these fields are alpha-numeric, with almost no relation to your real identity. The only exception is that we monitor some requests with the IP address that you are currently using, so that we are able to detect malicious use or system defects. Additionally, a technical field is stored (singletab) to ensure that some interactions are only processed in the browser tab that is currently active. For example, a new chess game will not be opened in all your current tabs. We use your local storage to save the difference between your local clock and our server time (serverUserTimeOffset), so that we are able to display the date and time of events correctly for you. We measure how our page is used with Google Analytics so that we can decide which features to implement next and how to optimize our user experience. Google stores your device identifiers and we send tracking events (such as page requests) to Google Analytics. These have no direct relationship to your person except for the IP address currently being used and your Google Analytics identifiers.\\r\\nYou can also enable more data fields, as described in the other sections. Your personal decision on which data storage to enable is also stored as necessary information (consent).<br><br>\\n                </div>\\n                <h4>Settings Data</h4>\\n                <div>\\n                    We offer a range of personal settings for your convenience. Options include which opponents you prefer to be paired against,  your preferred chessboard and pieces, the board size, the volume setting of the video player, your preferred language, whether to show chat or chess notation, and more. You can use our web page without storing this data, but if you would like to have your individual settings remembered we recommend enabling this feature. For logged-in registered users this setting is mandatory to store information about your privacy settings, users you have blocked and your friendship settings. As a registered user we also store your data consent in these settings.<br><br>\\n                </div>\\n                <h4>Social Media Data</h4>\\n                <div>\\n                    We embed a Twitter feed showing activity for the hashtag #c24live and also make it possible to share content in social networks such as Facebook and Twitter. If you enable this option social networks are able to store data in your cookies or local storage for the purpose of these features.<br><br>\\n                </div>\\n                <h4>Statistics Data</h4>\\n                <div>\\n                    Enable this feature to allow us to gather more individual measurements and statistics, so that we can make better decisions about which content and features are important to you and should be a priority to improve.<br><br>\\n                </div>\\n                <h4>Marketing Data</h4>\\n                <div>\\n                    To help cover the cost of free services we would like to show you advertisements from our partner networks. Members of these networks store data on the banners shown to you and try to deliver ads that are relevant. If you choose not to allow this kind of data we have to show more anonymous advertisements and will be more limited in the free services we can offer. We use Google services to display ads. You can find details on how your data is handled here: <a href=\"https://policies.google.com/technologies/ads\" target=\"_blank\">https://policies.google.com/technologies/ads</a><br><br>\\n                </div>\\n                <h4>Other Data</h4>\\n                <div>\\n                    For registered users we store additional information such as profile data, chess games played, your chess analysis sessions, forum posts, chat and messages, your friends and blocked users, and items and subscriptions you have purchased. You can find this information in your personal profile. A free registration is not required to use this application. If you decide to contact the support team a ticket is created with information that includes your name and email address so that we can respond to your concern. This data is processed in the external service Zendesk. If you subscribe to a newsletter or are registered we would like to send you occasional updates via email. You can unsubscribe from newsletters and as a registered user you can apply several mail settings to control how your email address is used. For newsletters we transfer your email address and username to the external service MailChimp. If you buy content or subscriptions on chess24 we work with the payment service provider Adyen, which collects your payment data and processes information about the payment such as fraud protection data.<br><br>\\n                </div>\\n\\n            </div>\\n\\n            <p><a id=\"data-consent-back-link\">Back...</a></p>\\n        </div>\\n\\n        <div class=\"opt-in\">\\n            <a class=\"cBtnFlexi cBtnBlue\" id=\"data-consent-opt-in-all\" data-e2e-key=\"data-consent-opt-in-all\"><span class=\"cIcon cIconOKwhite\"></span> Accept all</a><a class=\"cBtnFlexi cBtnBlue\" id=\"data-consent-close\"><span class=\"cIcon cIconWarning\"></span> save my choice</a>\\n        </div>\\n    </div>\\n</div>        </div>\\n\\n        <!-- footer -->\\n<footer class=\"pageFooter\">\\n\\t<div class=\"pageWrap\">\\n\\n\\t\\t<!-- footer items -->\\n\\t\\t<div class=\"footerFlex\">\\n\\t\\t\\t<div>\\n\\t\\t\\t\\t<h5>chess24</h5>\\n\\t\\t\\t\\t<ul>\\n                    <li><a href=\"/en/static/about\">About us</a></li>\\n                    <li><a href=\"/en/press\">Press</a></li>\\n                    <li><a href=\"/premium\">Premium</a></li>\\n                                        <li><a href=\"/en/static/jobs\">Jobs</a></li>\\n                </ul>\\n            </div>\\n            <div>\\n                <h5>Languages</h5>\\n                <ul class=\"langList\">\\n\\t        <li>\\n            <a class=\"language-change-link\" href=\"https://chess24.com/de/analyse\" data-lang=\"de\">\\n                Deutsch            </a>\\n        </li>\\n                <li>\\n            <a class=\"language-change-link\" href=\"https://chess24.com/en/analysis\" data-lang=\"en\">\\n                English            </a>\\n        </li>\\n                <li>\\n            <a class=\"language-change-link\" href=\"https://chess24.com/es/analisis\" data-lang=\"es\">\\n                Espa\\xc3\\xb1ol            </a>\\n        </li>\\n                <li>\\n            <a class=\"language-change-link\" href=\"https://chess24.com/fr/analysis\" data-lang=\"fr\">\\n                Fran\\xc3\\xa7ais            </a>\\n        </li>\\n                <li>\\n            <a class=\"language-change-link\" href=\"https://chess24.com/it/analysis\" data-lang=\"it\">\\n                Italiano            </a>\\n        </li>\\n                <li>\\n            <a class=\"language-change-link\" href=\"https://chess24.com/no/analysis\" data-lang=\"no\">\\n                Norsk            </a>\\n        </li>\\n                <li>\\n            <a class=\"language-change-link\" href=\"https://chess24.com/pl/analysis\" data-lang=\"pl\">\\n                Polski            </a>\\n        </li>\\n                <li>\\n            <a class=\"language-change-link\" href=\"https://chess24.com/pt/analysis\" data-lang=\"pt\">\\n                Portugu\\xc3\\xaas            </a>\\n        </li>\\n                <li>\\n            <a class=\"language-change-link\" href=\"https://chess24.com/ru/analysis\" data-lang=\"ru\">\\n                \\xd0\\xa0\\xd1\\x83\\xd1\\x81\\xd1\\x81\\xd0\\xba\\xd0\\xb8\\xd0\\xb9            </a>\\n        </li>\\n                <li>\\n            <a class=\"language-change-link\" href=\"https://chess24.com/tr/analysis\" data-lang=\"tr\">\\n                T\\xc3\\xbcrk\\xc3\\xa7e            </a>\\n        </li>\\n                <li>\\n            <a class=\"language-change-link\" href=\"https://chess24.com/zh/analysis\" data-lang=\"zh\">\\n                \\xe4\\xb8\\xad\\xe6\\x96\\x87            </a>\\n        </li>\\n        </ul>\\n\\n            </div>\\n            <div>\\n                <h5>Support</h5>\\n                <ul>\\n                    <li><a href=\"/glossary\">Chess glossary</a></li>\\n                                            <li class=\"linkSupport\"><a href=\"https://support.chess24.com/hc/en-us\" target=\"_new\">FAQs</a></li>\\n                                        <li><a href=\"/en/static/advertise-with-us\">Advertise with us</a></li>                    \\n                </ul>\\n            </div>\\n            <div>\\n                <h5>Subscribe</h5>\\n                <ul>\\n                    <li><a class=\"icons-social__item icons-social__item--youtube\" href=\"http://www.youtube.com/channel/UCkTCNuQ2mGfW6-SpHpaze_g?sub_confirmation=1\" target=\"_blank\" title=\"YouTube\"></a></li>\\n                    <li><a class=\"icons-social__item icons-social__item--twitch\" href=\"https://www.twitch.tv/chess24\" target=\"_blank\" title=\"Twitch\"></a></li>\\n                    <li><a class=\"icons-social__item icons-social__item--rss\" href=\"/en/read/news.rss\" target=\"_blank\" title=\"RSS\"></a></li>\\n                </ul>\\n            </div>\\n            <div>\\n                <h5>Follow</h5>\\n                \\n<div class=\"icons-social\">\\n    <a class=\"icons-social__item icons-social__item--twitter\" href=\"https://twitter.com/chess24com\" target=\"_blank\" title=\"Twitter\"></a>\\n    <a class=\"icons-social__item icons-social__item--facebook\" href=\"https://www.facebook.com/c24live\" target=\"_blank\" title=\"Facebook\"></a>\\n    <a class=\"icons-social__item icons-social__item--instagram\" href=\"https://www.instagram.com/chess24_official/\" target=\"_blank\" title=\"Instagram\"></a>\\n</div>            </div>\\n            <div>\\n                <h5>chess24 apps</h5>\\n                <ul>\\n                    <li>\\n                        <a href=\"https://itunes.apple.com/app/id564777203\" target=\"_blank\">\\n                            <img src=\"https://assets.chess24.com/assets/daca8a93e26446f1e7d52cedb56a5fe1/images/logos/app-store-badge-en.svg\" border=\"0\" alt=\"Download chess24 on the App Store\" width=\"159px\">\\n                        </a>\\n                    </li>\\n                    <li>\\n                        <a href=\"https://play.google.com/store/apps/details?id=de.cisha.android.board&referrer=utm_source%3Dchess24%26utm_campaign%3Dchess24-sidebar\" target=\"_blank\">\\n                            <img src=\"https://assets.chess24.com/assets/daca8a93e26446f1e7d52cedb56a5fe1/images/logos/google-play-badge-en.png\" border=\"0\" alt=\"Get chess24 on Google play\">\\n                        </a>\\n                    </li>\\n                </ul>\\n            </div>\\n        </div>\\n        <!-- END footer items -->\\n\\n        <!-- copyright and declaimers -->\\n        <div class=\"footerCopyright\">\\n            <div class=\"fRt\">\\n                <ul>\\n                    <li><a href=\"/en/static/terms-and-conditions\">\\n                            Terms of Website Use</a>\\n                    </li>\\n                    <li><a href=\"/en/static/cookie-policy\">\\n                            Cookie Policy</a>\\n                    </li>\\n                    <li><a href=\"/en/static/privacy-policy\">\\n                            Privacy Policy</a>\\n                    </li>\\n                    <li><a href=\"#\" class=\"data-consent-link\">\\n                            Data Settings</a>\\n                    </li>\\n                    <li><a href=\"/en/static/disclaimer\">\\n                            Disclaimer</a>\\n                    </li>\\n                </ul>\\n            </div>\\n            &copy; chess24.com\\n            | All rights reserved            | Version: 2021-04-29.0        </div>\\n\\n    </div>\\n</footer>\\n<!-- END footer -->\\n\\n    </div>\\n    <!-- END body container -->\\n\\n    <div id=\"language\" data-language=\"en\"></div>\\n    \\n            <!-- Snigel Web Services Advertisement -->\\n        <div id=\"googleAd\"></div>\\n        <!-- Snigel Web Services Advertisement -->\\n        <div id=\"snigelAd\"></div>\\n        <!-- Next Millenium Advertisement -->\\n        <!-- <div id=\"nextMillenniumAd\"></div> -->\\n            \\n    <script type=\"text/javascript\">\\r\\n    /* <![CDATA[ */\\r\\n    var google_conversion_id = 868606375;\\r\\n    var google_custom_params = window.google_tag_params;\\r\\n    var google_remarketing_only = true;\\r\\n    /* ]]> */\\r\\n</script>\\r\\n<script type=\"text/javascript\" src=\"//www.googleadservices.com/pagead/conversion.js\">\\r\\n</script>\\r\\n<noscript>\\r\\n    <div style=\"display:inline;\">\\r\\n        <img height=\"1\" width=\"1\" style=\"border-style:none;\" alt=\"\" src=\"//googleads.g.doubleclick.net/pagead/viewthroughconversion/868606375/?guid=ON&amp;script=0\"/>\\r\\n    </div>\\r\\n</noscript>\\r\\n<script type=\"text/javascript\">\\r\\n    /* <![CDATA[ */\\r\\n    var google_conversion_id = 981564464;\\r\\n    var google_custom_params = window.google_tag_params;\\r\\n    var google_remarketing_only = true;\\r\\n    /* ]]> */\\r\\n</script>\\r\\n<script type=\"text/javascript\" src=\"//www.googleadservices.com/pagead/conversion.js\">\\r\\n</script>\\r\\n<noscript>\\r\\n    <div style=\"display:inline;\">\\r\\n        <img height=\"1\" width=\"1\" style=\"border-style:none;\" alt=\"\" src=\"//googleads.g.doubleclick.net/pagead/viewthroughconversion/981564464/?guid=ON&amp;script=0\"/>\\r\\n    </div>\\r\\n</noscript>\\n  <script type=\"text/javascript\" src=\"https://assets.chess24.com/dictionary/1619948827i18nen.js\"></script>\\n<script type=\"text/javascript\" src=\"https://ajax.googleapis.com/ajax/libs/jquery/3.2.1/jquery.min.js\"></script>\\n<script type=\"text/javascript\" src=\"https://ajax.googleapis.com/ajax/libs/jqueryui/1.11.4/jquery-ui.min.js\"></script>\\n<script type=\"text/javascript\" src=\"https://assets.chess24.com/assets/daca8a93e26446f1e7d52cedb56a5fe1/js/min.js\"></script>\\n<script type=\"text/javascript\" src=\"https://assets.chess24.com/assets/daca8a93e26446f1e7d52cedb56a5fe1/js/templates/en.js\"></script>\\n<script type=\"text/javascript\">\\n/*<![CDATA[*/\\nerrorHandler.addView(\"Notification\");\\njQuery(function($) {\\n\\n\\t\\t\\t    jQuery(\".menuoption\").hover(function( elem ){\\n\\t\\t\\t\\t\\tjQuery(jQuery(this).children().filter(\"ul\")[0]).slideDown(\"fast\");\\n\\t\\t\\t\\t}, function( elem ) {\\n\\t\\t\\t\\t\\tjQuery(jQuery(this).children().filter(\"ul\")[0]).hide();\\n\\t\\t\\t\\t});\\njQuery(\\'body\\').on(\\'click\\',\\'#yt0\\',function(){jQuery.yii.submitForm(this,\\'/en/logout\\',{\\'csrf\\':\\'578bc453fa1e1adaaa6b3d9101b90f91990e8e5c\\'});return false;});\\nnew View.Notifications(\".sidebarMenu .notifications\").link(notificationHandler);\\nnew View.Flash(\".flashMessages\").link(notificationHandler);\\n});\\n/*]]>*/\\n</script>\\n</body>\\n\\n</html>\\n\\n\\n'"
      ]
     },
     "execution_count": 74,
     "metadata": {},
     "output_type": "execute_result"
    }
   ],
   "source": [
    "page.content"
   ]
  },
  {
   "cell_type": "code",
   "execution_count": 70,
   "metadata": {},
   "outputs": [],
   "source": [
    "from bs4 import BeautifulSoup\n",
    "soup = BeautifulSoup(page.content, 'html.parser')\n"
   ]
  },
  {
   "cell_type": "code",
   "execution_count": 88,
   "metadata": {},
   "outputs": [
    {
     "name": "stdout",
     "output_type": "stream",
     "text": [
      "1\n",
      "<div class=\"gameTabs customTabs skinDefault skinDefaultSimple fullWidth\">\n",
      "<section class=\"tabDatabaseGames\" data-tab-class=\"tabDatabaseGames\" data-tab-title=\"Database\" id=\"tabDatabaseGames\">\n",
      "<div class=\"databaseGamesList\"></div>\n",
      "</section>\n",
      "<section class=\"tabDatabaseMoves\" data-tab-class=\"tabDatabaseMoves\" data-tab-title=\"Opening tree\" id=\"tabDatabaseMoves\">\n",
      "<div class=\"databaseMovesWithScroller\"></div>\n",
      "</section>\n",
      "<section class=\"tabGamesEngine\" data-tab-class=\"tabGamesEngine\" data-tab-title=\"Analysis\" id=\"tabGamesEngine\"></section>\n",
      "</div>\n"
     ]
    }
   ],
   "source": [
    "for i in soup.select('div.gameTabs.customTabs.skinDefault.skinDefaultSimple.fullWidth'):\n",
    "    print(i)\n",
    " "
   ]
  },
  {
   "cell_type": "code",
   "execution_count": 99,
   "metadata": {},
   "outputs": [],
   "source": [
    "for i in soup.select('div.tabDatabaseGames'):\n",
    "    print(i.text)"
   ]
  },
  {
   "cell_type": "code",
   "execution_count": 102,
   "metadata": {},
   "outputs": [
    {
     "data": {
      "text/plain": [
       "[]"
      ]
     },
     "execution_count": 102,
     "metadata": {},
     "output_type": "execute_result"
    }
   ],
   "source": [
    "soup.select('div.tabDatabaseGames.active')"
   ]
  },
  {
   "cell_type": "code",
   "execution_count": 104,
   "metadata": {},
   "outputs": [
    {
     "data": {
      "text/plain": [
       "[]"
      ]
     },
     "execution_count": 104,
     "metadata": {},
     "output_type": "execute_result"
    }
   ],
   "source": [
    "soup.select('div.gridView.databaseGames')"
   ]
  },
  {
   "cell_type": "code",
   "execution_count": 53,
   "metadata": {},
   "outputs": [],
   "source": [
    "#print(soup.prettify())"
   ]
  },
  {
   "cell_type": "code",
   "execution_count": 59,
   "metadata": {},
   "outputs": [],
   "source": [
    "#soup.find_all('p')"
   ]
  },
  {
   "cell_type": "code",
   "execution_count": 51,
   "metadata": {},
   "outputs": [],
   "source": [
    "#soup.find_all(class_=\"chessGame\")"
   ]
  },
  {
   "cell_type": "code",
   "execution_count": 62,
   "metadata": {},
   "outputs": [
    {
     "name": "stdout",
     "output_type": "stream",
     "text": [
      "\n",
      "                                Playzone2\n",
      "\n",
      "                                    PREVIEW                                \n",
      "Try our early versions of the new Playzone before we roll them out to everyone\n",
      "\n",
      "\n",
      "                                Play NowPlay a game against a human or computer opponent\n",
      "\n",
      "\n",
      "                                LobbyFind other players, chat, and watch games in progress\n",
      "\n",
      "\n",
      "                                TournamentsCompete for trophies in the ultimate multiplayer challenge\n",
      "\n",
      "\n",
      "                                LeaderboardSee who's on top and how you compare!\n",
      "\n",
      "\n",
      "                                CoursesPlay better chess with our structured learning paths\n",
      "\n",
      "\n",
      "                                    chessableDrill with the power of MoveTrainer™\n",
      "\n",
      "\n",
      "                                Video SeriesTop players share their secrets through interactive lessons\n",
      "\n",
      "\n",
      "                                eBooksBrowse expert analysis at leisure with our chess game viewer\n",
      "\n",
      "\n",
      "                                Tactics Trainer Improve your tactical skills with puzzles adapted to your level\n",
      "\n"
     ]
    }
   ],
   "source": [
    "def isAnchorTagWithLargeText(tag):\n",
    "    return True if tag.name == 'a' and len(tag.get_text()) > 50 else False\n",
    "\"\"\" Validate the anchor tag and should have text length greater than 50 \"\"\"\n",
    "\n",
    "content = requests.get(\"https://chess24.com/en/analysis\")\n",
    "soup = BeautifulSoup(content.text, 'html.parser')\n",
    "tags = soup.find_all(isAnchorTagWithLargeText, limit = 10)\n",
    "for tag in tags:\n",
    "    print(tag.get_text())\n",
    "\n",
    "\n"
   ]
  },
  {
   "cell_type": "code",
   "execution_count": 64,
   "metadata": {},
   "outputs": [
    {
     "name": "stdout",
     "output_type": "stream",
     "text": [
      "[]\n"
     ]
    }
   ],
   "source": [
    "table  = soup.find_all('table')\n",
    "print(table)"
   ]
  },
  {
   "cell_type": "code",
   "execution_count": 67,
   "metadata": {},
   "outputs": [
    {
     "ename": "AttributeError",
     "evalue": "'NoneType' object has no attribute 'find_all'",
     "output_type": "error",
     "traceback": [
      "\u001b[1;31m---------------------------------------------------------------------------\u001b[0m",
      "\u001b[1;31mAttributeError\u001b[0m                            Traceback (most recent call last)",
      "\u001b[1;32m<ipython-input-67-29caa19f3794>\u001b[0m in \u001b[0;36m<module>\u001b[1;34m\u001b[0m\n\u001b[0;32m      1\u001b[0m \u001b[0mcontentTable\u001b[0m  \u001b[1;33m=\u001b[0m \u001b[0msoup\u001b[0m\u001b[1;33m.\u001b[0m\u001b[0mfind\u001b[0m\u001b[1;33m(\u001b[0m\u001b[1;34m'table'\u001b[0m\u001b[1;33m,\u001b[0m \u001b[1;33m{\u001b[0m \u001b[1;34m\"class\"\u001b[0m \u001b[1;33m:\u001b[0m \u001b[1;34m\"databaseGamesSummary\"\u001b[0m\u001b[1;33m}\u001b[0m\u001b[1;33m)\u001b[0m \u001b[1;31m# Use dictionary to pass key : value pair\u001b[0m\u001b[1;33m\u001b[0m\u001b[1;33m\u001b[0m\u001b[0m\n\u001b[1;32m----> 2\u001b[1;33m \u001b[0mrows\u001b[0m  \u001b[1;33m=\u001b[0m \u001b[0mcontentTable\u001b[0m\u001b[1;33m.\u001b[0m\u001b[0mfind_all\u001b[0m\u001b[1;33m(\u001b[0m\u001b[1;34m'tr'\u001b[0m\u001b[1;33m)\u001b[0m\u001b[1;33m\u001b[0m\u001b[1;33m\u001b[0m\u001b[0m\n\u001b[0m\u001b[0;32m      3\u001b[0m \u001b[1;32mfor\u001b[0m \u001b[0mrow\u001b[0m \u001b[1;32min\u001b[0m \u001b[0mrows\u001b[0m\u001b[1;33m:\u001b[0m\u001b[1;33m\u001b[0m\u001b[1;33m\u001b[0m\u001b[0m\n\u001b[0;32m      4\u001b[0m     \u001b[0mprint\u001b[0m\u001b[1;33m(\u001b[0m\u001b[0mrow\u001b[0m\u001b[1;33m.\u001b[0m\u001b[0mget_text\u001b[0m\u001b[1;33m(\u001b[0m\u001b[1;33m)\u001b[0m\u001b[1;33m)\u001b[0m\u001b[1;33m\u001b[0m\u001b[1;33m\u001b[0m\u001b[0m\n",
      "\u001b[1;31mAttributeError\u001b[0m: 'NoneType' object has no attribute 'find_all'"
     ]
    }
   ],
   "source": [
    "contentTable  = soup.find('table', { \"class\" : \"databaseGamesSummary\"}) # Use dictionary to pass key : value pair\n",
    "rows  = contentTable.find_all('tr')\n",
    "for row in rows:\n",
    "    print(row.get_text())"
   ]
  },
  {
   "cell_type": "code",
   "execution_count": 3,
   "metadata": {},
   "outputs": [
    {
     "name": "stdout",
     "output_type": "stream",
     "text": [
      "Requirement already satisfied: azure-storage-blob in c:\\users\\hariramg\\appdata\\local\\continuum\\anaconda3\\lib\\site-packages (12.8.1)\n",
      "Requirement already satisfied: cryptography>=2.1.4 in c:\\users\\hariramg\\appdata\\local\\continuum\\anaconda3\\lib\\site-packages (from azure-storage-blob) (2.8)\n",
      "Requirement already satisfied: azure-core<2.0.0,>=1.10.0 in c:\\users\\hariramg\\appdata\\local\\continuum\\anaconda3\\lib\\site-packages (from azure-storage-blob) (1.13.0)\n",
      "Requirement already satisfied: msrest>=0.6.18 in c:\\users\\hariramg\\appdata\\local\\continuum\\anaconda3\\lib\\site-packages (from azure-storage-blob) (0.6.21)\n",
      "Requirement already satisfied: cffi!=1.11.3,>=1.8 in c:\\users\\hariramg\\appdata\\local\\continuum\\anaconda3\\lib\\site-packages (from cryptography>=2.1.4->azure-storage-blob) (1.12.3)\n",
      "Requirement already satisfied: six>=1.4.1 in c:\\users\\hariramg\\appdata\\local\\continuum\\anaconda3\\lib\\site-packages (from cryptography>=2.1.4->azure-storage-blob) (1.12.0)\n",
      "Requirement already satisfied: requests>=2.18.4 in c:\\users\\hariramg\\appdata\\local\\continuum\\anaconda3\\lib\\site-packages (from azure-core<2.0.0,>=1.10.0->azure-storage-blob) (2.22.0)\n",
      "Requirement already satisfied: isodate>=0.6.0 in c:\\users\\hariramg\\appdata\\local\\continuum\\anaconda3\\lib\\site-packages (from msrest>=0.6.18->azure-storage-blob) (0.6.0)\n",
      "Requirement already satisfied: requests-oauthlib>=0.5.0 in c:\\users\\hariramg\\appdata\\local\\continuum\\anaconda3\\lib\\site-packages (from msrest>=0.6.18->azure-storage-blob) (1.3.0)\n",
      "Requirement already satisfied: certifi>=2017.4.17 in c:\\users\\hariramg\\appdata\\local\\continuum\\anaconda3\\lib\\site-packages (from msrest>=0.6.18->azure-storage-blob) (2020.4.5.1)\n",
      "Requirement already satisfied: pycparser in c:\\users\\hariramg\\appdata\\local\\continuum\\anaconda3\\lib\\site-packages (from cffi!=1.11.3,>=1.8->cryptography>=2.1.4->azure-storage-blob) (2.19)\n",
      "Requirement already satisfied: chardet<3.1.0,>=3.0.2 in c:\\users\\hariramg\\appdata\\local\\continuum\\anaconda3\\lib\\site-packages (from requests>=2.18.4->azure-core<2.0.0,>=1.10.0->azure-storage-blob) (3.0.4)\n",
      "Requirement already satisfied: idna<2.9,>=2.5 in c:\\users\\hariramg\\appdata\\local\\continuum\\anaconda3\\lib\\site-packages (from requests>=2.18.4->azure-core<2.0.0,>=1.10.0->azure-storage-blob) (2.8)\n",
      "Requirement already satisfied: urllib3!=1.25.0,!=1.25.1,<1.26,>=1.21.1 in c:\\users\\hariramg\\appdata\\local\\continuum\\anaconda3\\lib\\site-packages (from requests>=2.18.4->azure-core<2.0.0,>=1.10.0->azure-storage-blob) (1.24.2)\n",
      "Requirement already satisfied: oauthlib>=3.0.0 in c:\\users\\hariramg\\appdata\\local\\continuum\\anaconda3\\lib\\site-packages (from requests-oauthlib>=0.5.0->msrest>=0.6.18->azure-storage-blob) (3.1.0)\n",
      "Collecting azure-mgmt-storage\n",
      "  Downloading https://files.pythonhosted.org/packages/21/78/caf794ee639460e8c99f7bd65b090146e7f5a274776a59b895a96d7856a3/azure_mgmt_storage-17.1.0-py2.py3-none-any.whl (1.4MB)\n",
      "Collecting azure-mgmt-core<2.0.0,>=1.2.0 (from azure-mgmt-storage)\n",
      "  Downloading https://files.pythonhosted.org/packages/63/a0/2074af80e53b9d50ce9ac3d358778d3eca4508823afec83ea76ba989234b/azure_mgmt_core-1.2.2-py2.py3-none-any.whl\n",
      "Requirement already satisfied: msrest>=0.6.21 in c:\\users\\hariramg\\appdata\\local\\continuum\\anaconda3\\lib\\site-packages (from azure-mgmt-storage) (0.6.21)\n",
      "Collecting azure-common~=1.1 (from azure-mgmt-storage)\n",
      "  Downloading https://files.pythonhosted.org/packages/9e/1e/cfe7987493242e8b9ead309cfd76fc500c38bbefe192192b813325d289f3/azure_common-1.1.27-py2.py3-none-any.whl\n",
      "Requirement already satisfied: azure-core<2.0.0,>=1.9.0 in c:\\users\\hariramg\\appdata\\local\\continuum\\anaconda3\\lib\\site-packages (from azure-mgmt-core<2.0.0,>=1.2.0->azure-mgmt-storage) (1.13.0)\n",
      "Requirement already satisfied: requests-oauthlib>=0.5.0 in c:\\users\\hariramg\\appdata\\local\\continuum\\anaconda3\\lib\\site-packages (from msrest>=0.6.21->azure-mgmt-storage) (1.3.0)\n",
      "Requirement already satisfied: isodate>=0.6.0 in c:\\users\\hariramg\\appdata\\local\\continuum\\anaconda3\\lib\\site-packages (from msrest>=0.6.21->azure-mgmt-storage) (0.6.0)\n",
      "Requirement already satisfied: requests~=2.16 in c:\\users\\hariramg\\appdata\\local\\continuum\\anaconda3\\lib\\site-packages (from msrest>=0.6.21->azure-mgmt-storage) (2.22.0)\n",
      "Requirement already satisfied: certifi>=2017.4.17 in c:\\users\\hariramg\\appdata\\local\\continuum\\anaconda3\\lib\\site-packages (from msrest>=0.6.21->azure-mgmt-storage) (2020.4.5.1)\n",
      "Requirement already satisfied: six>=1.11.0 in c:\\users\\hariramg\\appdata\\local\\continuum\\anaconda3\\lib\\site-packages (from azure-core<2.0.0,>=1.9.0->azure-mgmt-core<2.0.0,>=1.2.0->azure-mgmt-storage) (1.12.0)\n",
      "Requirement already satisfied: oauthlib>=3.0.0 in c:\\users\\hariramg\\appdata\\local\\continuum\\anaconda3\\lib\\site-packages (from requests-oauthlib>=0.5.0->msrest>=0.6.21->azure-mgmt-storage) (3.1.0)\n",
      "Requirement already satisfied: urllib3!=1.25.0,!=1.25.1,<1.26,>=1.21.1 in c:\\users\\hariramg\\appdata\\local\\continuum\\anaconda3\\lib\\site-packages (from requests~=2.16->msrest>=0.6.21->azure-mgmt-storage) (1.24.2)\n",
      "Requirement already satisfied: chardet<3.1.0,>=3.0.2 in c:\\users\\hariramg\\appdata\\local\\continuum\\anaconda3\\lib\\site-packages (from requests~=2.16->msrest>=0.6.21->azure-mgmt-storage) (3.0.4)\n",
      "Requirement already satisfied: idna<2.9,>=2.5 in c:\\users\\hariramg\\appdata\\local\\continuum\\anaconda3\\lib\\site-packages (from requests~=2.16->msrest>=0.6.21->azure-mgmt-storage) (2.8)\n",
      "Installing collected packages: azure-mgmt-core, azure-common, azure-mgmt-storage\n",
      "Successfully installed azure-common-1.1.27 azure-mgmt-core-1.2.2 azure-mgmt-storage-17.1.0\n"
     ]
    }
   ],
   "source": [
    "!pip install azure-storage-blob\n",
    "!pip install azure-mgmt-storage"
   ]
  },
  {
   "cell_type": "markdown",
   "metadata": {},
   "source": [
    "#https://www.c-sharpcorner.com/article/write-and-read-pandas-dataframe-and-csv-to-and-from-azure-storage-table/"
   ]
  },
  {
   "cell_type": "code",
   "execution_count": 7,
   "metadata": {},
   "outputs": [
    {
     "ename": "ModuleNotFoundError",
     "evalue": "No module named 'azure.storage.table'",
     "output_type": "error",
     "traceback": [
      "\u001b[1;31m---------------------------------------------------------------------------\u001b[0m",
      "\u001b[1;31mModuleNotFoundError\u001b[0m                       Traceback (most recent call last)",
      "\u001b[1;32m<ipython-input-7-eb80d6591f67>\u001b[0m in \u001b[0;36m<module>\u001b[1;34m\u001b[0m\n\u001b[0;32m      1\u001b[0m \u001b[1;32mimport\u001b[0m \u001b[0mcsv\u001b[0m\u001b[1;33m\u001b[0m\u001b[1;33m\u001b[0m\u001b[0m\n\u001b[1;32m----> 2\u001b[1;33m \u001b[1;32mfrom\u001b[0m \u001b[0mazure\u001b[0m\u001b[1;33m.\u001b[0m\u001b[0mstorage\u001b[0m\u001b[1;33m.\u001b[0m\u001b[0mtable\u001b[0m \u001b[1;32mimport\u001b[0m \u001b[0mTableService\u001b[0m\u001b[1;33m,\u001b[0m \u001b[0mEntity\u001b[0m\u001b[1;33m\u001b[0m\u001b[1;33m\u001b[0m\u001b[0m\n\u001b[0m\u001b[0;32m      3\u001b[0m \u001b[1;33m\u001b[0m\u001b[0m\n",
      "\u001b[1;31mModuleNotFoundError\u001b[0m: No module named 'azure.storage.table'"
     ]
    }
   ],
   "source": [
    "import csv\n",
    "from azure.storage.table import TableService, Entity\n",
    "\n"
   ]
  },
  {
   "cell_type": "code",
   "execution_count": 6,
   "metadata": {},
   "outputs": [
    {
     "name": "stdout",
     "output_type": "stream",
     "text": [
      "Collecting azure\n",
      "  Downloading https://files.pythonhosted.org/packages/e8/48/ef73d5e71ecb84cacaeaf533f519be81825ad6198acc41bd821f440e7f7c/azure-5.0.0.zip\n"
     ]
    },
    {
     "name": "stderr",
     "output_type": "stream",
     "text": [
      "    ERROR: Complete output from command python setup.py egg_info:\n",
      "    ERROR: Traceback (most recent call last):\n",
      "      File \"<string>\", line 1, in <module>\n",
      "      File \"C:\\Users\\hariramg\\AppData\\Local\\Temp\\pip-install-8qua3x5t\\azure\\setup.py\", line 60, in <module>\n",
      "        raise RuntimeError(message)\n",
      "    RuntimeError:\n",
      "    \n",
      "    Starting with v5.0.0, the 'azure' meta-package is deprecated and cannot be installed anymore.\n",
      "    Please install the service specific packages prefixed by `azure` needed for your application.\n",
      "    \n",
      "    The complete list of available packages can be found at:\n",
      "    https://aka.ms/azsdk/python/all\n",
      "    \n",
      "    Here's a non-exhaustive list of common packages:\n",
      "    \n",
      "    -  azure-mgmt-compute (https://pypi.python.org/pypi/azure-mgmt-compute) : Management of Virtual Machines, etc.\n",
      "    -  azure-mgmt-storage (https://pypi.python.org/pypi/azure-mgmt-storage) : Management of storage accounts.\n",
      "    -  azure-mgmt-resource (https://pypi.python.org/pypi/azure-mgmt-resource) : Generic package about Azure Resource Management (ARM)\n",
      "    -  azure-keyvault-secrets (https://pypi.python.org/pypi/azure-keyvault-secrets) : Access to secrets in Key Vault\n",
      "    -  azure-storage-blob (https://pypi.python.org/pypi/azure-storage-blob) : Access to blobs in storage accounts\n",
      "    \n",
      "    A more comprehensive discussion of the rationale for this decision can be found in the following issue:\n",
      "    https://github.com/Azure/azure-sdk-for-python/issues/10646\n",
      "    \n",
      "    \n",
      "    ----------------------------------------\n",
      "ERROR: Command \"python setup.py egg_info\" failed with error code 1 in C:\\Users\\hariramg\\AppData\\Local\\Temp\\pip-install-8qua3x5t\\azure\\\n"
     ]
    }
   ],
   "source": []
  },
  {
   "cell_type": "code",
   "execution_count": null,
   "metadata": {},
   "outputs": [],
   "source": []
  }
 ],
 "metadata": {
  "kernelspec": {
   "display_name": "Python 3",
   "language": "python",
   "name": "python3"
  },
  "language_info": {
   "codemirror_mode": {
    "name": "ipython",
    "version": 3
   },
   "file_extension": ".py",
   "mimetype": "text/x-python",
   "name": "python",
   "nbconvert_exporter": "python",
   "pygments_lexer": "ipython3",
   "version": "3.7.3"
  }
 },
 "nbformat": 4,
 "nbformat_minor": 2
}
